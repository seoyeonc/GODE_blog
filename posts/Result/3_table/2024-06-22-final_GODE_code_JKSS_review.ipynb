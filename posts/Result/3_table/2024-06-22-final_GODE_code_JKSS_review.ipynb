{
 "cells": [
  {
   "cell_type": "raw",
   "id": "ebad32fa-18f1-4de4-84cf-737b7944705c",
   "metadata": {},
   "source": [
    "---\n",
    "title: \"[GODE]final GODE code \"\n",
    "author: \"SEOYEON CHOI\"\n",
    "date: \"2024-06-22\"\n",
    "---"
   ]
  },
  {
   "cell_type": "markdown",
   "id": "953ca744-d9e0-4165-9f56-a5bf7e3e0ba6",
   "metadata": {},
   "source": [
    "k fold 교차검증 orbit"
   ]
  },
  {
   "cell_type": "markdown",
   "id": "8855041a-39d3-4d1b-988f-017c86c79302",
   "metadata": {},
   "source": [
    "# Import"
   ]
  },
  {
   "cell_type": "code",
   "execution_count": 14,
   "id": "2a4d8094-356e-4769-94d7-e221cd2f38f8",
   "metadata": {},
   "outputs": [],
   "source": [
    "import numpy as np\n",
    "import matplotlib.pyplot as plt\n",
    "import matplotlib\n",
    "import pandas as pd\n",
    "import random\n",
    "import pickle\n",
    "\n",
    "import warnings\n",
    "warnings.simplefilter(\"ignore\", np.ComplexWarning)\n",
    "warnings.filterwarnings(\"ignore\", category=RuntimeWarning)\n",
    "from haversine import haversine\n",
    "from IPython.display import HTML\n",
    "import plotly.graph_objects as go\n",
    "import copy \n",
    "\n",
    "import tqdm\n",
    "from rpy2.robjects.packages import importr\n",
    "from rpy2.robjects.vectors import FloatVector \n",
    "\n",
    "from pygsp import graphs, filters, plotting, utils\n",
    "\n",
    "from sklearn.metrics import confusion_matrix, precision_score, recall_score, f1_score, accuracy_score, roc_curve, auc"
   ]
  },
  {
   "cell_type": "code",
   "execution_count": 15,
   "id": "466f3f5d-9899-4a27-b509-15971c3a62c9",
   "metadata": {},
   "outputs": [],
   "source": [
    "from pyod.models.lof import LOF\n",
    "from pyod.models.knn import KNN\n",
    "from pyod.models.cblof import CBLOF\n",
    "from pyod.models.ocsvm import OCSVM\n",
    "from pyod.models.mcd import MCD\n",
    "from pyod.models.feature_bagging import FeatureBagging\n",
    "from pyod.models.abod import ABOD\n",
    "from pyod.models.iforest import IForest\n",
    "from pyod.models.hbos import HBOS\n",
    "from pyod.models.sos import SOS\n",
    "from pyod.models.so_gaal import SO_GAAL\n",
    "from pyod.models.mo_gaal import MO_GAAL\n",
    "from pyod.models.lscp import LSCP"
   ]
  },
  {
   "cell_type": "markdown",
   "id": "d5d3b380-d6b3-4e5c-9f37-e226cfa551b7",
   "metadata": {},
   "source": [
    "# Class"
   ]
  },
  {
   "cell_type": "code",
   "execution_count": 16,
   "id": "cf09a4b7-f70b-483a-82e3-99c99cc3c0dc",
   "metadata": {},
   "outputs": [],
   "source": [
    "class Conf_matrx:\n",
    "    def __init__(self,original,compare):\n",
    "        self.original = original\n",
    "        self.compare = compare\n",
    "    def conf(self,name):\n",
    "        self.name = name\n",
    "        self.conf_matrix = confusion_matrix(self.original, self.compare)\n",
    "        \n",
    "        # fig, ax = plt.subplots(figsize=(5, 5))\n",
    "        # ax.matshow(self.conf_matrix, cmap=plt.cm.Oranges, alpha=0.3)\n",
    "        # for i in range(self.conf_matrix.shape[0]):\n",
    "        #     for j in range(self.conf_matrix.shape[1]):\n",
    "        #         ax.text(x=j, y=i,s=self.conf_matrix[i, j], va='center', ha='center', size='xx-large')\n",
    "        # plt.xlabel('Predictions', fontsize=18)\n",
    "        # plt.ylabel('Actuals', fontsize=18)\n",
    "        # plt.title('Confusion Matrix of ' + str(name), fontsize=18)\n",
    "        # plt.show()\n",
    "        \n",
    "        self.acc = accuracy_score(self.original, self.compare)\n",
    "        self.pre = precision_score(self.original, self.compare)\n",
    "        self.rec = recall_score(self.original, self.compare)\n",
    "        self.f1 = f1_score(self.original, self.compare)\n",
    "        \n",
    "        # print('Accuracy: %.3f' % self.acc)\n",
    "        # print('Precision: %.3f' % self.pre)\n",
    "        # print('Recall: %.3f' % self.rec)\n",
    "        # print('F1 Score: %.3f' % self.f1)"
   ]
  },
  {
   "cell_type": "code",
   "execution_count": 17,
   "id": "5ac59005-c866-4308-af3d-376e69928bbb",
   "metadata": {},
   "outputs": [],
   "source": [
    "class Linear:\n",
    "    def __init__(self,df):\n",
    "        self.df = df\n",
    "        self.y = df.y.to_numpy()\n",
    "        self.x = df.x.to_numpy()\n",
    "        self.n = len(self.y)\n",
    "        self.W = w\n",
    "    def _eigen(self):\n",
    "        d= self.W.sum(axis=1)\n",
    "        D= np.diag(d)\n",
    "        self.L = np.diag(1/np.sqrt(d)) @ (D-self.W) @ np.diag(1/np.sqrt(d))\n",
    "        self.lamb, self.Psi = np.linalg.eigh(self.L)\n",
    "        self.Lamb = np.diag(self.lamb)      \n",
    "    def fit(self,sd=20): # fit with ebayesthresh\n",
    "        self._eigen()\n",
    "        self.ybar = self.Psi.T @ self.y # fbar := graph fourier transform of f\n",
    "        self.power = self.ybar**2 \n",
    "        ebayesthresh = importr('EbayesThresh').ebayesthresh\n",
    "        self.power_threshed=np.array(ebayesthresh(FloatVector(self.power),sd=sd))\n",
    "        self.ybar_threshed = np.where(self.power_threshed>0,self.ybar,0)\n",
    "        self.yhat = self.Psi@self.ybar_threshed\n",
    "        self.df = self.df.assign(yHat = self.yhat)\n",
    "        self.df = self.df.assign(Residual = self.df.y- self.df.yHat)"
   ]
  },
  {
   "cell_type": "code",
   "execution_count": 18,
   "id": "cf41ddd6-2466-4bb4-a402-63ed0ba5bf67",
   "metadata": {},
   "outputs": [],
   "source": [
    "class Orbit:\n",
    "    def __init__(self,df):\n",
    "        self.df = df \n",
    "        self.f = df.f.to_numpy()\n",
    "        self.x = df.x.to_numpy()\n",
    "        self.y = df.y.to_numpy()\n",
    "        self.n = len(self.f)\n",
    "        self.theta= None\n",
    "    def get_distance(self):\n",
    "        self.D = np.zeros([self.n,self.n])\n",
    "        locations = np.stack([self.x, self.y],axis=1)\n",
    "        for i in tqdm.tqdm(range(self.n)):\n",
    "            for j in range(i,self.n):\n",
    "                self.D[i,j]=np.linalg.norm(locations[i]-locations[j])\n",
    "        self.D = self.D + self.D.T\n",
    "    def get_weightmatrix(self,theta=1,beta=0.5,kappa=4000):\n",
    "        self.theta = theta\n",
    "        dist = np.where(self.D < kappa,self.D,0)\n",
    "        self.W = np.exp(-(dist/self.theta)**2)\n",
    "    def _eigen(self):\n",
    "        d= self.W.sum(axis=1)\n",
    "        D= np.diag(d)\n",
    "        self.L = np.diag(1/np.sqrt(d)) @ (D-self.W) @ np.diag(1/np.sqrt(d))\n",
    "        self.lamb, self.Psi = np.linalg.eigh(self.L)\n",
    "        self.Lamb = np.diag(self.lamb)       \n",
    "    def fit(self,sd=5): # fit with ebayesthresh\n",
    "        self._eigen()\n",
    "        self.fbar = self.Psi.T @ self.f # fbar := graph fourier transform of f\n",
    "        self.power = self.fbar**2 \n",
    "        ebayesthresh = importr('EbayesThresh').ebayesthresh\n",
    "        self.power_threshed=np.array(ebayesthresh(FloatVector(self.power),sd=sd))\n",
    "        self.fbar_threshed = np.where(self.power_threshed>0,self.fbar,0)\n",
    "        self.fhat = self.Psi@self.fbar_threshed\n",
    "        self.df = self.df.assign(fHat = self.fhat)\n",
    "        self.df = self.df.assign(Residual = self.df.f- self.df.fHat)"
   ]
  },
  {
   "cell_type": "code",
   "execution_count": 19,
   "id": "f1e62c61-755d-4497-a557-b54137e04f18",
   "metadata": {},
   "outputs": [],
   "source": [
    "class BUNNY:\n",
    "    def __init__(self,df):\n",
    "        self.df = df \n",
    "        self.f = df.f.to_numpy()\n",
    "        self.z = df.z.to_numpy()\n",
    "        self.x = df.x.to_numpy()\n",
    "        self.y = df.y.to_numpy()\n",
    "        self.noise = df.noise.to_numpy()\n",
    "        self.fnoise = self.f + self.noise\n",
    "        self.W = _W\n",
    "        self.n = len(self.f)\n",
    "        self.theta= None\n",
    "    def _eigen(self):\n",
    "        d= self.W.sum(axis=1)\n",
    "        D= np.diag(d)\n",
    "        self.L = np.diag(1/np.sqrt(d)) @ (D-self.W) @ np.diag(1/np.sqrt(d))\n",
    "        self.lamb, self.Psi = np.linalg.eigh(self.L)\n",
    "        self.Lamb = np.diag(self.lamb)       \n",
    "    def fit(self,sd=5): # fit with ebayesthresh\n",
    "        self._eigen()\n",
    "        self.fbar = self.Psi.T @ self.fnoise # fbar := graph fourier transform of f\n",
    "        self.power = self.fbar**2 \n",
    "        ebayesthresh = importr('EbayesThresh').ebayesthresh\n",
    "        self.power_threshed=np.array(ebayesthresh(FloatVector(self.power),sd=sd))\n",
    "        self.fbar_threshed = np.where(self.power_threshed>0,self.fbar,0)\n",
    "        self.fhat = self.Psi@self.fbar_threshed\n",
    "        self.df = self.df.assign(fnoise = self.fnoise)\n",
    "        self.df = self.df.assign(fHat = self.fhat)\n",
    "        self.df = self.df.assign(Residual = self.df.f + self.df.noise - self.df.fHat)"
   ]
  },
  {
   "cell_type": "code",
   "execution_count": 54,
   "id": "a13e61db-6e66-4785-9edc-8657bde8e951",
   "metadata": {},
   "outputs": [],
   "source": [
    "class fortable:\n",
    "    def __init__(self, df, clf, tab, outlier_true, conf_name = \"Method\"):\n",
    "        self.df = df\n",
    "        self.clf = clf\n",
    "        self.conf_name = conf_name\n",
    "        self.tabb = tab\n",
    "        self.outlier_true = outlier_true\n",
    "        \n",
    "    def _forfit(self):\n",
    "        if 'fnoise' in self.df.columns:\n",
    "            self.clf.fit(self.df[['x', 'y','fnoise']])\n",
    "        elif 'f' in self.df.columns:\n",
    "            self.clf.fit(self.df[['x', 'y', 'f']])\n",
    "        if 'f' not in self.df.columns:\n",
    "            self.clf.fit(self.df[['x', 'y']])\n",
    "\n",
    "    def _forlabels(self):\n",
    "        self.labels = list(self.clf.labels_)\n",
    "\n",
    "    def _forpredict(self):\n",
    "        self.predict = self.clf.fit_predict(self.df)\n",
    "        \n",
    "    def comparison(self, compare_outlier = None, conf_outlier = None, gode = False):\n",
    "        if gode == False:\n",
    "            self._forfit()\n",
    "            self._forlabels()\n",
    "            if 'fnoise' in self.df.columns:\n",
    "                compare_outlier = self.clf.decision_function(np.array(self.df[['x', 'y','fnoise']]))\n",
    "            else:\n",
    "                compare_outlier = self.clf.decision_function(self.df)\n",
    "            if self.conf_name == \"LOF\":\n",
    "                self._forpredict()\n",
    "                conf_outlier = self.predict\n",
    "            elif self.conf_name != \"LOF\":\n",
    "                conf_outlier = self.labels\n",
    "        elif gode == True:\n",
    "            compare_outlier = compare_outlier\n",
    "            conf_outlier = conf_outlier\n",
    "\n",
    "        fpr, tpr, thresh = roc_curve(self.outlier_true, compare_outlier)       \n",
    "        \n",
    "        _conf = Conf_matrx(self.outlier_true, conf_outlier)\n",
    "        _conf.conf(self.conf_name)\n",
    "        \n",
    "        _table = pd.concat([self.tabb,\n",
    "                   pd.DataFrame({\"Accuracy\":[_conf.acc],\"Precision\":[_conf.pre],\"Recall\":[_conf.rec],\"F1\":[_conf.f1],\"AUC\":[auc(fpr, tpr)],\"N\":n, \"Contamination\": eta_sparsity},index = [_conf.name])])\n",
    "        \n",
    "        return _table"
   ]
  },
  {
   "cell_type": "code",
   "execution_count": 34,
   "id": "cff901ba-26c7-4a43-9e3a-e2f99de75c55",
   "metadata": {},
   "outputs": [],
   "source": [
    "class fortable:\n",
    "    def __init__(self, df, clf, tab, outlier_true, conf_name = \"Method\"):\n",
    "        self.df = df\n",
    "        self.clf = clf\n",
    "        self.conf_name = conf_name\n",
    "        self.tabb = tab\n",
    "        self.outlier_true = outlier_true\n",
    "        \n",
    "    def _forfit(self):\n",
    "        if 'fnoise' in self.df.columns:\n",
    "            self.clf.fit(self.df[['x', 'y','fnoise']])\n",
    "        elif 'f' in self.df.columns:\n",
    "            self.clf.fit(self.df[['x', 'y', 'f']])\n",
    "        if 'f' not in self.df.columns:\n",
    "            self.clf.fit(self.df[['x', 'y']])\n",
    "\n",
    "    def _forlabels(self):\n",
    "        self.labels = list(self.clf.labels_)\n",
    "\n",
    "    def _forpredict(self):\n",
    "        self.predict = self.clf.fit_predict(self.df)\n",
    "        \n",
    "    def comparison(self, compare_outlier = None, conf_outlier = None, gode = False):\n",
    "        if gode == False:\n",
    "            self._forfit()\n",
    "            self._forlabels()\n",
    "            if 'fnoise' in self.df.columns:\n",
    "                compare_outlier = self.clf.decision_function(np.array(self.df[['x', 'y','fnoise']]))\n",
    "            else:\n",
    "                compare_outlier = self.clf.decision_function(self.df)\n",
    "            if self.conf_name == \"LOF\":\n",
    "                self._forpredict()\n",
    "                conf_outlier = self.predict\n",
    "            elif self.conf_name != \"LOF\":\n",
    "                conf_outlier = self.labels\n",
    "        elif gode == True:\n",
    "            compare_outlier = compare_outlier\n",
    "            conf_outlier = conf_outlier\n",
    "\n",
    "        fpr, tpr, thresh = roc_curve(self.outlier_true, compare_outlier)       \n",
    "        \n",
    "        _conf = Conf_matrx(self.outlier_true, conf_outlier)\n",
    "        _conf.conf(self.conf_name)\n",
    "        \n",
    "        _table = pd.concat([self.tabb,\n",
    "                   pd.DataFrame({\"Accuracy\":[_conf.acc],\"Precision\":[_conf.pre],\"Recall\":[_conf.rec],\"F1\":[_conf.f1],\"AUC\":[auc(fpr, tpr)],\"N\":n, \"Contamination\": eta_sparsity,\"kappa\":kappa},index = [_conf.name])])\n",
    "        \n",
    "        return _table"
   ]
  },
  {
   "cell_type": "markdown",
   "id": "7e0e36c4-af6b-4af1-99fb-9a4925a855e4",
   "metadata": {},
   "source": [
    "# Linear"
   ]
  },
  {
   "cell_type": "code",
   "execution_count": null,
   "id": "2263ef5f-16cb-4ce1-a4a1-3927da0b141b",
   "metadata": {},
   "outputs": [],
   "source": [
    "# tab_linear = pd.DataFrame(columns=[\"Accuracy\",\"Precision\",\"Recall\",\"F1\",\"AUC\"])"
   ]
  },
  {
   "cell_type": "code",
   "execution_count": null,
   "id": "246548bd-f67f-473e-a06c-a59e7ccb2fcd",
   "metadata": {},
   "outputs": [],
   "source": [
    "n = 10000\n",
    "eta_sparsity = 0.2\n",
    "random_seed = 77"
   ]
  },
  {
   "cell_type": "code",
   "execution_count": null,
   "id": "9836089c-05f7-436f-a094-14a63187c272",
   "metadata": {},
   "outputs": [],
   "source": [
    "np.random.seed(6)\n",
    "\n",
    "epsilon = np.around(np.random.normal(size=n),15)\n",
    "signal = np.random.choice(np.concatenate((np.random.uniform(-7, -5, round(n*eta_sparsity/2)).round(15), np.random.uniform(5, 7, round(n*eta_sparsity/2)).round(15), np.repeat(0, n - round(n*eta_sparsity)))), n)\n",
    "eta = signal + epsilon\n",
    "\n",
    "outlier_true_linear= signal.copy()\n",
    "outlier_true_linear = list(map(lambda x: 1 if x!=0 else 0,outlier_true_linear))\n",
    "\n",
    "x_1 = np.linspace(0,2,n)\n",
    "y1_1 = 5 * x_1\n",
    "y_1 = y1_1 + eta # eta = signal + epsilon\n",
    "\n",
    "_df=pd.DataFrame({'x':x_1, 'y':y_1})\n",
    "\n",
    "w=np.zeros((n,n))\n",
    "\n",
    "for i in range(n):\n",
    "    for j in range(n):\n",
    "        if i==j :\n",
    "            w[i,j] = 0\n",
    "        elif np.abs(i-j) <= 1 : \n",
    "            w[i,j] = 1\n",
    "\n",
    "index_of_trueoutlier_bool = signal!=0"
   ]
  },
  {
   "cell_type": "markdown",
   "id": "5a575915-bbbd-4ebe-8625-bd5e1c2ea932",
   "metadata": {},
   "source": [
    "## GODE_Linear"
   ]
  },
  {
   "cell_type": "code",
   "execution_count": null,
   "id": "8ab05eb4-ef87-43ce-bd78-48b5c82faa05",
   "metadata": {},
   "outputs": [],
   "source": [
    "_Linear = Linear(_df)\n",
    "_Linear.fit(sd=20)\n",
    "\n",
    "outlier_GODE_linear_old = (_Linear.df['Residual']**2).tolist()\n",
    "sorted_data = sorted(outlier_GODE_linear_old,reverse=True)\n",
    "index = int(len(sorted_data) * eta_sparsity)\n",
    "five_percent = sorted_data[index]\n",
    "outlier_GODE_linear = list(map(lambda x: 1 if x > five_percent else 0,outlier_GODE_linear_old))\n",
    "\n",
    "tab_lin = fortable(_df, clf = None, tab =tab_linear, outlier_true=outlier_true_linear, conf_name =\"GODE\")\n",
    "\n",
    "tab_linear = tab_lin.comparison(compare_outlier = outlier_GODE_linear_old, conf_outlier = outlier_GODE_linear, gode = True)"
   ]
  },
  {
   "cell_type": "markdown",
   "id": "72e2f306-4f5b-4422-b60b-69c2632a630f",
   "metadata": {},
   "source": [
    "## LOF_Linear"
   ]
  },
  {
   "cell_type": "code",
   "execution_count": null,
   "id": "ad28b7be-a175-4507-90a1-97817991ea8f",
   "metadata": {},
   "outputs": [],
   "source": [
    "np.random.seed(random_seed)\n",
    "clf = LOF(contamination=eta_sparsity)\n",
    "\n",
    "tab_lin = fortable(_df, clf, tab_linear, outlier_true_linear, \"LOF\")\n",
    "\n",
    "tab_linear = tab_lin.comparison()"
   ]
  },
  {
   "cell_type": "markdown",
   "id": "5031b296-3d2a-425d-90c7-323865075b06",
   "metadata": {},
   "source": [
    "## KNN_Linear"
   ]
  },
  {
   "cell_type": "code",
   "execution_count": null,
   "id": "427fd488-30de-4720-ad3f-8f63763bd19d",
   "metadata": {},
   "outputs": [],
   "source": [
    "np.random.seed(random_seed)\n",
    "clf = KNN(contamination=eta_sparsity)\n",
    "\n",
    "tab_lin = fortable(_df, clf, tab_linear, outlier_true_linear, \"KNN\")\n",
    "\n",
    "tab_linear = tab_lin.comparison()"
   ]
  },
  {
   "cell_type": "markdown",
   "id": "4da46907-3824-4fa2-ae32-1f0e8a27da41",
   "metadata": {},
   "source": [
    "## CBLOF_Linear"
   ]
  },
  {
   "cell_type": "code",
   "execution_count": null,
   "id": "73f52dc3-6e92-4bad-a6e6-1c38e5b19b5d",
   "metadata": {},
   "outputs": [],
   "source": [
    "clf = CBLOF(contamination=eta_sparsity,random_state=random_seed)\n",
    "tab_lin = fortable(_df, clf, tab_linear, outlier_true_linear, \"CBLOF\")\n",
    "\n",
    "tab_linear = tab_lin.comparison()"
   ]
  },
  {
   "cell_type": "markdown",
   "id": "aa2ff555-0aba-4cc9-8347-49eb7b8166c9",
   "metadata": {},
   "source": [
    "## OCSVM_Linear"
   ]
  },
  {
   "cell_type": "code",
   "execution_count": null,
   "id": "e5837cf8-d458-47bb-81b7-c0a447c3ac26",
   "metadata": {},
   "outputs": [],
   "source": [
    "np.random.seed(random_seed)\n",
    "clf = OCSVM(nu=eta_sparsity)\n",
    "\n",
    "tab_lin = fortable(_df, clf, tab_linear, outlier_true_linear, \"OCSVM\")\n",
    "\n",
    "tab_linear = tab_lin.comparison()"
   ]
  },
  {
   "cell_type": "markdown",
   "id": "34191457-a9dc-4f6e-958e-d64a2d13625e",
   "metadata": {},
   "source": [
    "## MCD_Linear"
   ]
  },
  {
   "cell_type": "code",
   "execution_count": null,
   "id": "bed26c30-dcbf-4313-aa9e-90280adce240",
   "metadata": {},
   "outputs": [],
   "source": [
    "clf = MCD(contamination=eta_sparsity, random_state = random_seed)\n",
    "tab_lin = fortable(_df, clf, tab_linear, outlier_true_linear, \"MCD\")\n",
    "\n",
    "tab_linear = tab_lin.comparison()"
   ]
  },
  {
   "cell_type": "markdown",
   "id": "4efac38f-6cf6-4c78-aecb-04dd10ac45de",
   "metadata": {},
   "source": [
    "## Feature Bagging_Linear"
   ]
  },
  {
   "cell_type": "code",
   "execution_count": null,
   "id": "6fbeb4e5-30bd-4b4a-b0ab-31d6d88570b4",
   "metadata": {},
   "outputs": [],
   "source": [
    "clf = FeatureBagging(contamination=eta_sparsity, random_state=random_seed)\n",
    "\n",
    "tab_lin = fortable(_df, clf, tab_linear, outlier_true_linear, \"Feature Bagging\")\n",
    "\n",
    "tab_linear = tab_lin.comparison()"
   ]
  },
  {
   "cell_type": "markdown",
   "id": "add2568f-0283-4b8b-87ae-f601a89b61ab",
   "metadata": {},
   "source": [
    "## ABOD_Linear"
   ]
  },
  {
   "cell_type": "code",
   "execution_count": null,
   "id": "11ea730e-1781-4b4b-9bbe-257eca06d21b",
   "metadata": {},
   "outputs": [],
   "source": [
    "np.random.seed(random_seed)\n",
    "clf = ABOD(contamination=eta_sparsity)\n",
    "\n",
    "tab_lin = fortable(_df, clf, tab_linear, outlier_true_linear, \"ABOD\")\n",
    "\n",
    "tab_linear = tab_lin.comparison()"
   ]
  },
  {
   "cell_type": "markdown",
   "id": "67c99c05-1ef0-4708-bf9d-99d779b72fc4",
   "metadata": {},
   "source": [
    "## IForest_Linear"
   ]
  },
  {
   "cell_type": "code",
   "execution_count": null,
   "id": "563a5a02-bd2a-49f2-88ef-e5fd5df943e2",
   "metadata": {},
   "outputs": [],
   "source": [
    "clf = IForest(contamination=eta_sparsity, random_state=random_seed)\n",
    "\n",
    "tab_lin = fortable(_df, clf, tab_linear, outlier_true_linear, \"Isolation Forest\")\n",
    "\n",
    "tab_linear = tab_lin.comparison()"
   ]
  },
  {
   "cell_type": "markdown",
   "id": "d6d18267-59f0-477a-80bb-f473ce965ab9",
   "metadata": {},
   "source": [
    "## HBOS_Linear"
   ]
  },
  {
   "cell_type": "code",
   "execution_count": null,
   "id": "ab0b7b75-41ba-476a-98f7-2fab7b1026ec",
   "metadata": {},
   "outputs": [],
   "source": [
    "np.random.seed(random_seed)\n",
    "clf = HBOS(contamination=eta_sparsity)\n",
    "\n",
    "tab_lin = fortable(_df, clf, tab_linear, outlier_true_linear, \"HBOS\")\n",
    "\n",
    "tab_linear = tab_lin.comparison()"
   ]
  },
  {
   "cell_type": "markdown",
   "id": "f85a2665-45ca-45bc-bff8-d4edd41770c6",
   "metadata": {},
   "source": [
    "## SOS_Linear"
   ]
  },
  {
   "cell_type": "code",
   "execution_count": null,
   "id": "47ee6b2a-3e3f-4b68-a517-bee838efe83d",
   "metadata": {},
   "outputs": [],
   "source": [
    "np.random.seed(random_seed)\n",
    "clf = SOS(contamination=eta_sparsity)\n",
    "\n",
    "tab_lin = fortable(_df, clf, tab_linear, outlier_true_linear, \"SOS\")\n",
    "\n",
    "tab_linear = tab_lin.comparison()"
   ]
  },
  {
   "cell_type": "markdown",
   "id": "7cf7db4d-d738-4fc9-b3fd-157e52dc3b13",
   "metadata": {},
   "source": [
    "## LSCP_Linear"
   ]
  },
  {
   "cell_type": "code",
   "execution_count": null,
   "id": "55f00056-055a-40bb-ae34-0e24f6cd26b0",
   "metadata": {},
   "outputs": [],
   "source": [
    "detectors = [KNN(), LOF(), OCSVM()]\n",
    "clf = LSCP(detectors,contamination=eta_sparsity, random_state=random_seed)\n",
    "\n",
    "tab_lin = fortable(_df, clf, tab_linear, outlier_true_linear, \"LSCP\")\n",
    "\n",
    "tab_linear = tab_lin.comparison()"
   ]
  },
  {
   "cell_type": "markdown",
   "id": "802bcb32-88a6-4996-8a6b-ef8772cf5c6d",
   "metadata": {},
   "source": [
    "## tab_linear"
   ]
  },
  {
   "cell_type": "code",
   "execution_count": null,
   "id": "5c2cb79e-c78e-4496-8a1e-0abdb440ba95",
   "metadata": {
    "scrolled": true
   },
   "outputs": [],
   "source": [
    "round(tab_linear,3)#.to_csv('./Example_1_2.csv')"
   ]
  },
  {
   "cell_type": "code",
   "execution_count": null,
   "id": "3a28b57f-4677-4259-a53f-ee26684112be",
   "metadata": {},
   "outputs": [],
   "source": [
    "# tab_linear.to_csv('./Example_1_Dataset.csv')"
   ]
  },
  {
   "cell_type": "markdown",
   "id": "e65868b9-1061-4a45-944e-9c85c1455879",
   "metadata": {},
   "source": [
    "# Orbit"
   ]
  },
  {
   "cell_type": "code",
   "execution_count": 25,
   "id": "6b0a7762-d5ff-4513-9576-49ea0d946f02",
   "metadata": {},
   "outputs": [],
   "source": [
    "# tab_orbit = pd.DataFrame(columns=[\"Accuracy\",\"Precision\",\"Recall\",\"F1\",\"AUC\"])"
   ]
  },
  {
   "cell_type": "code",
   "execution_count": 35,
   "id": "cca7f366-5a1b-42f1-8e6e-883da90d86b0",
   "metadata": {},
   "outputs": [],
   "source": [
    "n = 1000\n",
    "eta_sparsity = 0.05\n",
    "random_seed=77"
   ]
  },
  {
   "cell_type": "code",
   "execution_count": 37,
   "id": "038afa8c-8c7c-4786-ad0a-7d695c2ca1ec",
   "metadata": {},
   "outputs": [],
   "source": [
    "n_values = list([1000,5000,10000])  \n",
    "eta_sparsity_list = list([0.01,0.05,0.1])\n",
    "random_seed=77\n",
    "tab_orbit = pd.DataFrame(columns=[\"Accuracy\",\"Precision\",\"Recall\",\"F1\",\"AUC\",\"N\",\"Contamination\",\"kapapa\"])"
   ]
  },
  {
   "cell_type": "code",
   "execution_count": 38,
   "id": "a126390c-4317-4e0e-8e7b-d8364c871209",
   "metadata": {},
   "outputs": [],
   "source": [
    "np.random.seed(777)\n",
    "epsilon = np.around(np.random.normal(size=n),15)\n",
    "signal = np.random.choice(np.concatenate((np.random.uniform(-4, -1, round(n * eta_sparsity / 2)).round(15), np.random.uniform(1, 4, round(n * eta_sparsity / 2)).round(15), np.repeat(0, n - round(n * eta_sparsity)))), n)\n",
    "eta = signal + epsilon\n",
    "pi=np.pi\n",
    "ang=np.linspace(-pi,pi-2*pi/n,n)\n",
    "r=5+np.cos(np.linspace(0,12*pi,n))\n",
    "vx=r*np.cos(ang)\n",
    "vy=r*np.sin(ang)\n",
    "f1=10*np.sin(np.linspace(0,6*pi,n))\n",
    "f = f1 + eta\n",
    "_df = pd.DataFrame({'x' : vx, 'y' : vy, 'f' : f})\n",
    "outlier_true_orbit = signal.copy()\n",
    "outlier_true_orbit = list(map(lambda x: 1 if x!=0 else 0,outlier_true_orbit))"
   ]
  },
  {
   "cell_type": "markdown",
   "id": "0534ed56-c1dd-454f-9727-0293e4df51a9",
   "metadata": {},
   "source": [
    "## GODE_Orbit"
   ]
  },
  {
   "cell_type": "code",
   "execution_count": 40,
   "id": "e33df7e0-208a-4bff-91c9-5e4ee53cf759",
   "metadata": {},
   "outputs": [],
   "source": [
    "n_values = list([1000,5000,10000])  \n",
    "eta_sparsity_list = list([0.01,0.05,0.1])\n",
    "random_seed=77\n",
    "kappa=1.21\n",
    "\n",
    "tab_orbit = pd.DataFrame(columns=[\"Accuracy\",\"Precision\",\"Recall\",\"F1\",\"AUC\",\"N\",\"Contamination\",\"kapapa\"])"
   ]
  },
  {
   "cell_type": "code",
   "execution_count": 41,
   "id": "4aabd05e-0277-4f1f-87c4-7af3d4473e60",
   "metadata": {
    "scrolled": true
   },
   "outputs": [
    {
     "name": "stderr",
     "output_type": "stream",
     "text": [
      "100%|██████████| 1000/1000 [00:01<00:00, 764.14it/s]\n",
      "/tmp/ipykernel_255578/1145116151.py:45: FutureWarning: The behavior of DataFrame concatenation with empty or all-NA entries is deprecated. In a future version, this will no longer exclude empty or all-NA columns when determining the result dtypes. To retain the old behavior, exclude the relevant entries before the concat operation.\n",
      "  _table = pd.concat([self.tabb,\n"
     ]
    }
   ],
   "source": [
    "# _Orbit = Orbit(_df)\n",
    "# _Orbit.get_distance()\n",
    "\n",
    "# _Orbit.get_weightmatrix(theta=(_Orbit.D[_Orbit.D>0].mean()),kappa=kappa) \n",
    "# _Orbit.fit(sd=15)\n",
    "\n",
    "# outlier_GODE_orbit_old = (_Orbit.df['Residual']**2).tolist()\n",
    "# sorted_data = sorted(outlier_GODE_orbit_old,reverse=True)\n",
    "# index = int(len(sorted_data) * eta_sparsity)\n",
    "# five_percent = sorted_data[index]\n",
    "# outlier_GODE_orbit = list(map(lambda x: 1 if x > five_percent else 0,outlier_GODE_orbit_old))\n",
    "\n",
    "# tab_orb = fortable(_df, clf = None, tab =tab_orbit, outlier_true=outlier_true_orbit, conf_name =\"GODE\")\n",
    "\n",
    "# tab_orbit = tab_orb.comparison(compare_outlier = outlier_GODE_orbit_old, conf_outlier = outlier_GODE_orbit, gode = True)"
   ]
  },
  {
   "cell_type": "code",
   "execution_count": 42,
   "id": "1facfab4-44d3-4459-ae85-f941629ae308",
   "metadata": {},
   "outputs": [
    {
     "name": "stderr",
     "output_type": "stream",
     "text": [
      "100%|██████████| 1000/1000 [00:01<00:00, 733.98it/s]\n",
      "/tmp/ipykernel_255578/1145116151.py:45: FutureWarning: The behavior of DataFrame concatenation with empty or all-NA entries is deprecated. In a future version, this will no longer exclude empty or all-NA columns when determining the result dtypes. To retain the old behavior, exclude the relevant entries before the concat operation.\n",
      "  _table = pd.concat([self.tabb,\n",
      "100%|██████████| 5000/5000 [00:31<00:00, 158.63it/s] \n",
      "100%|██████████| 10000/10000 [02:03<00:00, 80.67it/s] \n",
      "100%|██████████| 1000/1000 [00:01<00:00, 783.42it/s]\n",
      "100%|██████████| 5000/5000 [00:30<00:00, 161.77it/s]\n",
      "100%|██████████| 10000/10000 [02:02<00:00, 81.36it/s] \n",
      "100%|██████████| 1000/1000 [00:01<00:00, 814.47it/s]\n",
      "100%|██████████| 5000/5000 [00:31<00:00, 161.02it/s]\n",
      "100%|██████████| 10000/10000 [02:05<00:00, 79.47it/s] \n"
     ]
    }
   ],
   "source": [
    "tab_orbit = pd.DataFrame(columns=[\"Accuracy\",\"Precision\",\"Recall\",\"F1\",\"AUC\",\"N\",\"Contamination\",\"kappa\"])\n",
    "    \n",
    "for eta_sparsity in eta_sparsity_list:\n",
    "    \n",
    "    for n in n_values:\n",
    "\n",
    "        np.random.seed(777)\n",
    "        epsilon = np.around(np.random.normal(size=n),15)\n",
    "        signal = np.random.choice(np.concatenate((np.random.uniform(-4, -1, round(n * eta_sparsity / 2)).round(15), np.random.uniform(1, 4, round(n * eta_sparsity / 2)).round(15), np.repeat(0, n - round(n * eta_sparsity)))), n)\n",
    "        eta = signal + epsilon\n",
    "        pi=np.pi\n",
    "        ang=np.linspace(-pi,pi-2*pi/n,n)\n",
    "        r=5+np.cos(np.linspace(0,12*pi,n))\n",
    "        vx=r*np.cos(ang)\n",
    "        vy=r*np.sin(ang)\n",
    "        f1=10*np.sin(np.linspace(0,6*pi,n))\n",
    "        f = f1 + eta\n",
    "        _df = pd.DataFrame({'x' : vx, 'y' : vy, 'f' : f,'f1':f1})\n",
    "        outlier_true_orbit = signal.copy()\n",
    "        outlier_true_orbit = list(map(lambda x: 1 if x!=0 else 0,outlier_true_orbit))\n",
    "        index_of_trueoutlier_bool = signal!=0\n",
    "    \n",
    "        _df_orbit = _df[['x','y','f']]\n",
    "\n",
    "        _Orbit = Orbit(_df_orbit)\n",
    "        _Orbit.get_distance()\n",
    "        \n",
    "        _Orbit.get_weightmatrix(theta=(_Orbit.D[_Orbit.D>0].mean()),kappa=kappa) \n",
    "        _Orbit.fit(sd=15)\n",
    "        \n",
    "        outlier_GODE_orbit_old = (_Orbit.df['Residual']**2).tolist()\n",
    "        sorted_data = sorted(outlier_GODE_orbit_old,reverse=True)\n",
    "        index = int(len(sorted_data) * eta_sparsity)\n",
    "        percent = sorted_data[index]\n",
    "        outlier_GODE_orbit = list(map(lambda x: 1 if x > percent else 0,outlier_GODE_orbit_old))\n",
    "        \n",
    "        tab_orb = fortable(_df_orbit, clf = None, tab =tab_orbit, outlier_true=outlier_true_orbit, conf_name =\"GODE\")\n",
    "        \n",
    "        tab_orbit = tab_orb.comparison(compare_outlier = outlier_GODE_orbit_old, conf_outlier = outlier_GODE_orbit, gode = True)"
   ]
  },
  {
   "cell_type": "code",
   "execution_count": 44,
   "id": "40df69ee-7f93-4937-8c8b-a2dce829aa59",
   "metadata": {},
   "outputs": [],
   "source": [
    "tab_orbit_gode = tab_orbit.copy()"
   ]
  },
  {
   "cell_type": "code",
   "execution_count": null,
   "id": "3b2bb54b-ec39-44dc-9303-5c1965297ebf",
   "metadata": {},
   "outputs": [],
   "source": [
    "# _Orbit = Orbit(_df)\n",
    "# _Orbit.get_distance()\n",
    "\n",
    "# _Orbit.get_weightmatrix(theta=(_Orbit.D[_Orbit.D>0].mean()),kappa=2500) \n",
    "# _Orbit.fit(sd=15)\n",
    "\n",
    "# outlier_GODE_orbit_old = (_Orbit.df['Residual']**2).tolist()\n",
    "# sorted_data = sorted(outlier_GODE_orbit_old,reverse=True)\n",
    "# index = int(len(sorted_data) * eta_sparsity)\n",
    "# five_percent = sorted_data[index]\n",
    "# outlier_GODE_orbit = list(map(lambda x: 1 if x > five_percent else 0,outlier_GODE_orbit_old))\n",
    "\n",
    "# tab_orb = fortable(_df, clf = None, tab =tab_orbit, outlier_true=outlier_true_orbit, conf_name =\"GODE\")\n",
    "\n",
    "# tab_orbit = tab_orb.comparison(compare_outlier = outlier_GODE_orbit_old, conf_outlier = outlier_GODE_orbit, gode = True)"
   ]
  },
  {
   "cell_type": "markdown",
   "id": "5cac0db6-7a4e-4b58-a4a8-3d111810b4b7",
   "metadata": {},
   "source": [
    "## LOF_Orbit"
   ]
  },
  {
   "cell_type": "code",
   "execution_count": 116,
   "id": "5087e18a-b51a-496f-8107-5cec27db5b6e",
   "metadata": {},
   "outputs": [
    {
     "name": "stderr",
     "output_type": "stream",
     "text": [
      "/home/csy/anaconda3/envs/pygsp/lib/python3.10/site-packages/sklearn/utils/deprecation.py:86: FutureWarning: Function fit_predict is deprecated\n",
      "  warnings.warn(msg, category=FutureWarning)\n"
     ]
    }
   ],
   "source": [
    "np.random.seed(random_seed)\n",
    "clf = LOF(contamination=eta_sparsity)\n",
    "\n",
    "tab_orb = fortable(_df[['x','y','f']], clf, tab_orbit, outlier_true_orbit, \"LOF\")\n",
    "\n",
    "tab_orbit = tab_orb.comparison()"
   ]
  },
  {
   "cell_type": "code",
   "execution_count": 117,
   "id": "932bb82d-ffd9-4263-b179-aff39d756e4e",
   "metadata": {
    "scrolled": true
   },
   "outputs": [
    {
     "name": "stderr",
     "output_type": "stream",
     "text": [
      "/home/csy/anaconda3/envs/pygsp/lib/python3.10/site-packages/sklearn/utils/deprecation.py:86: FutureWarning: Function fit_predict is deprecated\n",
      "  warnings.warn(msg, category=FutureWarning)\n",
      "/tmp/ipykernel_255578/3780776973.py:45: FutureWarning: The behavior of DataFrame concatenation with empty or all-NA entries is deprecated. In a future version, this will no longer exclude empty or all-NA columns when determining the result dtypes. To retain the old behavior, exclude the relevant entries before the concat operation.\n",
      "  _table = pd.concat([self.tabb,\n",
      "/home/csy/anaconda3/envs/pygsp/lib/python3.10/site-packages/sklearn/utils/deprecation.py:86: FutureWarning: Function fit_predict is deprecated\n",
      "  warnings.warn(msg, category=FutureWarning)\n",
      "/home/csy/anaconda3/envs/pygsp/lib/python3.10/site-packages/sklearn/utils/deprecation.py:86: FutureWarning: Function fit_predict is deprecated\n",
      "  warnings.warn(msg, category=FutureWarning)\n",
      "/home/csy/anaconda3/envs/pygsp/lib/python3.10/site-packages/sklearn/utils/deprecation.py:86: FutureWarning: Function fit_predict is deprecated\n",
      "  warnings.warn(msg, category=FutureWarning)\n",
      "/home/csy/anaconda3/envs/pygsp/lib/python3.10/site-packages/sklearn/utils/deprecation.py:86: FutureWarning: Function fit_predict is deprecated\n",
      "  warnings.warn(msg, category=FutureWarning)\n",
      "/home/csy/anaconda3/envs/pygsp/lib/python3.10/site-packages/sklearn/utils/deprecation.py:86: FutureWarning: Function fit_predict is deprecated\n",
      "  warnings.warn(msg, category=FutureWarning)\n",
      "/home/csy/anaconda3/envs/pygsp/lib/python3.10/site-packages/sklearn/utils/deprecation.py:86: FutureWarning: Function fit_predict is deprecated\n",
      "  warnings.warn(msg, category=FutureWarning)\n",
      "/home/csy/anaconda3/envs/pygsp/lib/python3.10/site-packages/sklearn/utils/deprecation.py:86: FutureWarning: Function fit_predict is deprecated\n",
      "  warnings.warn(msg, category=FutureWarning)\n",
      "/home/csy/anaconda3/envs/pygsp/lib/python3.10/site-packages/sklearn/utils/deprecation.py:86: FutureWarning: Function fit_predict is deprecated\n",
      "  warnings.warn(msg, category=FutureWarning)\n"
     ]
    }
   ],
   "source": [
    "tab_orbit = pd.DataFrame(columns=[\"Accuracy\",\"Precision\",\"Recall\",\"F1\",\"AUC\",\"N\",\"Contamination\",\"kappa\"])\n",
    "\n",
    "for n in n_values:\n",
    "    for eta_sparsity in eta_sparsity_list:\n",
    "        np.random.seed(777)\n",
    "        epsilon = np.around(np.random.normal(size=n),15)\n",
    "        signal = np.random.choice(np.concatenate((np.random.uniform(-4, -1, round(n * eta_sparsity / 2)).round(15), np.random.uniform(1, 4, round(n * eta_sparsity / 2)).round(15), np.repeat(0, n - round(n * eta_sparsity)))), n)\n",
    "        eta = signal + epsilon\n",
    "        pi=np.pi\n",
    "        ang=np.linspace(-pi,pi-2*pi/n,n)\n",
    "        r=5+np.cos(np.linspace(0,12*pi,n))\n",
    "        vx=r*np.cos(ang)\n",
    "        vy=r*np.sin(ang)\n",
    "        f1=10*np.sin(np.linspace(0,6*pi,n))\n",
    "        f = f1 + eta\n",
    "        _df = pd.DataFrame({'x' : vx, 'y' : vy, 'f' : f,'f1':f1})\n",
    "        outlier_true_orbit = signal.copy()\n",
    "        outlier_true_orbit = list(map(lambda x: 1 if x!=0 else 0,outlier_true_orbit))\n",
    "        index_of_trueoutlier_bool = signal!=0\n",
    "            \n",
    "        np.random.seed(random_seed)\n",
    "        clf = LOF(contamination=eta_sparsity)\n",
    "        \n",
    "        tab_orb = fortable(_df[['x','y','f']], clf, tab_orbit, outlier_true_orbit, \"LOF\")\n",
    "        \n",
    "        tab_orbit = tab_orb.comparison()"
   ]
  },
  {
   "cell_type": "code",
   "execution_count": 118,
   "id": "baaeb461-4cdf-4c32-8bcf-d1375c3d8501",
   "metadata": {},
   "outputs": [],
   "source": [
    "tab_orbit_LOF = tab_orbit"
   ]
  },
  {
   "cell_type": "markdown",
   "id": "c0285fe1-0e83-455a-ae5f-56a1bc02b519",
   "metadata": {},
   "source": [
    "## KNN_Orbit"
   ]
  },
  {
   "cell_type": "code",
   "execution_count": 119,
   "id": "e37b3ea7-b900-4821-81a4-437d4f5afb64",
   "metadata": {},
   "outputs": [],
   "source": [
    "np.random.seed(random_seed)\n",
    "clf = KNN(contamination=eta_sparsity)\n",
    "\n",
    "tab_orb = fortable(_df[['x','y','f']], clf, tab_orbit, outlier_true_orbit, \"kNN\")\n",
    "\n",
    "tab_orbit = tab_orb.comparison()"
   ]
  },
  {
   "cell_type": "code",
   "execution_count": 120,
   "id": "06070c60-6cf6-4ea9-9a89-99a09e29daf1",
   "metadata": {},
   "outputs": [
    {
     "name": "stderr",
     "output_type": "stream",
     "text": [
      "/tmp/ipykernel_255578/3780776973.py:45: FutureWarning: The behavior of DataFrame concatenation with empty or all-NA entries is deprecated. In a future version, this will no longer exclude empty or all-NA columns when determining the result dtypes. To retain the old behavior, exclude the relevant entries before the concat operation.\n",
      "  _table = pd.concat([self.tabb,\n"
     ]
    }
   ],
   "source": [
    "tab_orbit = pd.DataFrame(columns=[\"Accuracy\",\"Precision\",\"Recall\",\"F1\",\"AUC\"])\n",
    "for n in n_values:\n",
    "    for eta_sparsity in eta_sparsity_list:\n",
    "        np.random.seed(777)\n",
    "        epsilon = np.around(np.random.normal(size=n),15)\n",
    "        signal = np.random.choice(np.concatenate((np.random.uniform(-4, -1, round(n * eta_sparsity / 2)).round(15), np.random.uniform(1, 4, round(n * eta_sparsity / 2)).round(15), np.repeat(0, n - round(n * eta_sparsity)))), n)\n",
    "        eta = signal + epsilon\n",
    "        pi=np.pi\n",
    "        ang=np.linspace(-pi,pi-2*pi/n,n)\n",
    "        r=5+np.cos(np.linspace(0,12*pi,n))\n",
    "        vx=r*np.cos(ang)\n",
    "        vy=r*np.sin(ang)\n",
    "        f1=10*np.sin(np.linspace(0,6*pi,n))\n",
    "        f = f1 + eta\n",
    "        _df = pd.DataFrame({'x' : vx, 'y' : vy, 'f' : f,'f1':f1})\n",
    "        outlier_true_orbit = signal.copy()\n",
    "        outlier_true_orbit = list(map(lambda x: 1 if x!=0 else 0,outlier_true_orbit))\n",
    "        index_of_trueoutlier_bool = signal!=0\n",
    "            \n",
    "        np.random.seed(random_seed)\n",
    "        clf = KNN(contamination=eta_sparsity)\n",
    "        \n",
    "        tab_orb = fortable(_df[['x','y','f']], clf, tab_orbit, outlier_true_orbit, \"kNN\")\n",
    "        \n",
    "        tab_orbit = tab_orb.comparison()\n",
    "tab_orbit_kNN = tab_orbit"
   ]
  },
  {
   "cell_type": "markdown",
   "id": "a28c1648-8c5b-4b20-a628-18145583bffa",
   "metadata": {},
   "source": [
    "## CBLOF_Orbit"
   ]
  },
  {
   "cell_type": "code",
   "execution_count": 121,
   "id": "4361a71b-5041-4dfd-a833-96a5855250b8",
   "metadata": {},
   "outputs": [
    {
     "name": "stderr",
     "output_type": "stream",
     "text": [
      "/home/csy/anaconda3/envs/pygsp/lib/python3.10/site-packages/sklearn/cluster/_kmeans.py:1412: FutureWarning: The default value of `n_init` will change from 10 to 'auto' in 1.4. Set the value of `n_init` explicitly to suppress the warning\n",
      "  super()._check_params_vs_input(X, default_n_init=10)\n"
     ]
    }
   ],
   "source": [
    "clf = CBLOF(contamination=eta_sparsity,random_state=random_seed)\n",
    "\n",
    "tab_orb = fortable(_df[['x','y','f']], clf, tab_orbit, outlier_true_orbit, \"CBLOF\")\n",
    "\n",
    "tab_orbit = tab_orb.comparison()"
   ]
  },
  {
   "cell_type": "code",
   "execution_count": 122,
   "id": "ba197c25-e475-4372-8883-7916e1ec7ff4",
   "metadata": {
    "scrolled": true
   },
   "outputs": [
    {
     "name": "stderr",
     "output_type": "stream",
     "text": [
      "/home/csy/anaconda3/envs/pygsp/lib/python3.10/site-packages/sklearn/cluster/_kmeans.py:1412: FutureWarning: The default value of `n_init` will change from 10 to 'auto' in 1.4. Set the value of `n_init` explicitly to suppress the warning\n",
      "  super()._check_params_vs_input(X, default_n_init=10)\n",
      "/tmp/ipykernel_255578/3780776973.py:45: FutureWarning: The behavior of DataFrame concatenation with empty or all-NA entries is deprecated. In a future version, this will no longer exclude empty or all-NA columns when determining the result dtypes. To retain the old behavior, exclude the relevant entries before the concat operation.\n",
      "  _table = pd.concat([self.tabb,\n",
      "/home/csy/anaconda3/envs/pygsp/lib/python3.10/site-packages/sklearn/cluster/_kmeans.py:1412: FutureWarning: The default value of `n_init` will change from 10 to 'auto' in 1.4. Set the value of `n_init` explicitly to suppress the warning\n",
      "  super()._check_params_vs_input(X, default_n_init=10)\n",
      "/home/csy/anaconda3/envs/pygsp/lib/python3.10/site-packages/sklearn/cluster/_kmeans.py:1412: FutureWarning: The default value of `n_init` will change from 10 to 'auto' in 1.4. Set the value of `n_init` explicitly to suppress the warning\n",
      "  super()._check_params_vs_input(X, default_n_init=10)\n",
      "/home/csy/anaconda3/envs/pygsp/lib/python3.10/site-packages/sklearn/cluster/_kmeans.py:1412: FutureWarning: The default value of `n_init` will change from 10 to 'auto' in 1.4. Set the value of `n_init` explicitly to suppress the warning\n",
      "  super()._check_params_vs_input(X, default_n_init=10)\n",
      "/home/csy/anaconda3/envs/pygsp/lib/python3.10/site-packages/sklearn/cluster/_kmeans.py:1412: FutureWarning: The default value of `n_init` will change from 10 to 'auto' in 1.4. Set the value of `n_init` explicitly to suppress the warning\n",
      "  super()._check_params_vs_input(X, default_n_init=10)\n",
      "/home/csy/anaconda3/envs/pygsp/lib/python3.10/site-packages/sklearn/cluster/_kmeans.py:1412: FutureWarning: The default value of `n_init` will change from 10 to 'auto' in 1.4. Set the value of `n_init` explicitly to suppress the warning\n",
      "  super()._check_params_vs_input(X, default_n_init=10)\n",
      "/home/csy/anaconda3/envs/pygsp/lib/python3.10/site-packages/sklearn/cluster/_kmeans.py:1412: FutureWarning: The default value of `n_init` will change from 10 to 'auto' in 1.4. Set the value of `n_init` explicitly to suppress the warning\n",
      "  super()._check_params_vs_input(X, default_n_init=10)\n",
      "/home/csy/anaconda3/envs/pygsp/lib/python3.10/site-packages/sklearn/cluster/_kmeans.py:1412: FutureWarning: The default value of `n_init` will change from 10 to 'auto' in 1.4. Set the value of `n_init` explicitly to suppress the warning\n",
      "  super()._check_params_vs_input(X, default_n_init=10)\n",
      "/home/csy/anaconda3/envs/pygsp/lib/python3.10/site-packages/sklearn/cluster/_kmeans.py:1412: FutureWarning: The default value of `n_init` will change from 10 to 'auto' in 1.4. Set the value of `n_init` explicitly to suppress the warning\n",
      "  super()._check_params_vs_input(X, default_n_init=10)\n"
     ]
    }
   ],
   "source": [
    "tab_orbit = pd.DataFrame(columns=[\"Accuracy\",\"Precision\",\"Recall\",\"F1\",\"AUC\"])\n",
    "for n in n_values:\n",
    "    for eta_sparsity in eta_sparsity_list:\n",
    "        np.random.seed(777)\n",
    "        epsilon = np.around(np.random.normal(size=n),15)\n",
    "        signal = np.random.choice(np.concatenate((np.random.uniform(-4, -1, round(n * eta_sparsity / 2)).round(15), np.random.uniform(1, 4, round(n * eta_sparsity / 2)).round(15), np.repeat(0, n - round(n * eta_sparsity)))), n)\n",
    "        eta = signal + epsilon\n",
    "        pi=np.pi\n",
    "        ang=np.linspace(-pi,pi-2*pi/n,n)\n",
    "        r=5+np.cos(np.linspace(0,12*pi,n))\n",
    "        vx=r*np.cos(ang)\n",
    "        vy=r*np.sin(ang)\n",
    "        f1=10*np.sin(np.linspace(0,6*pi,n))\n",
    "        f = f1 + eta\n",
    "        _df = pd.DataFrame({'x' : vx, 'y' : vy, 'f' : f,'f1':f1})\n",
    "        outlier_true_orbit = signal.copy()\n",
    "        outlier_true_orbit = list(map(lambda x: 1 if x!=0 else 0,outlier_true_orbit))\n",
    "        index_of_trueoutlier_bool = signal!=0\n",
    "            \n",
    "        clf = CBLOF(contamination=eta_sparsity,random_state=random_seed)\n",
    "\n",
    "        tab_orb = fortable(_df[['x','y','f']], clf, tab_orbit, outlier_true_orbit, \"CBLOF\")\n",
    "        \n",
    "        tab_orbit = tab_orb.comparison()\n",
    "tab_orbit_CBLOF = tab_orbit"
   ]
  },
  {
   "cell_type": "markdown",
   "id": "8d619f6f-fc66-4796-b849-fe987fe6f8f8",
   "metadata": {},
   "source": [
    "## OCSVM_Orbit"
   ]
  },
  {
   "cell_type": "code",
   "execution_count": 123,
   "id": "afaa5298-a873-492d-b5c8-818e55d6d6ff",
   "metadata": {},
   "outputs": [
    {
     "name": "stderr",
     "output_type": "stream",
     "text": [
      "/home/csy/anaconda3/envs/pygsp/lib/python3.10/site-packages/sklearn/base.py:457: UserWarning: X has feature names, but OneClassSVM was fitted without feature names\n",
      "  warnings.warn(\n"
     ]
    }
   ],
   "source": [
    "np.random.seed(random_seed)\n",
    "clf = OCSVM(nu=eta_sparsity)\n",
    "\n",
    "tab_orb = fortable(_df[['x','y','f']], clf, tab_orbit, outlier_true_orbit, \"OCSVM\")\n",
    "\n",
    "tab_orbit = tab_orb.comparison()"
   ]
  },
  {
   "cell_type": "code",
   "execution_count": 124,
   "id": "fe4897a6-d3ad-4932-9444-4e48053de9fd",
   "metadata": {
    "scrolled": true
   },
   "outputs": [
    {
     "name": "stderr",
     "output_type": "stream",
     "text": [
      "/home/csy/anaconda3/envs/pygsp/lib/python3.10/site-packages/sklearn/base.py:457: UserWarning: X has feature names, but OneClassSVM was fitted without feature names\n",
      "  warnings.warn(\n",
      "/tmp/ipykernel_255578/3780776973.py:45: FutureWarning: The behavior of DataFrame concatenation with empty or all-NA entries is deprecated. In a future version, this will no longer exclude empty or all-NA columns when determining the result dtypes. To retain the old behavior, exclude the relevant entries before the concat operation.\n",
      "  _table = pd.concat([self.tabb,\n",
      "/home/csy/anaconda3/envs/pygsp/lib/python3.10/site-packages/sklearn/base.py:457: UserWarning: X has feature names, but OneClassSVM was fitted without feature names\n",
      "  warnings.warn(\n",
      "/home/csy/anaconda3/envs/pygsp/lib/python3.10/site-packages/sklearn/base.py:457: UserWarning: X has feature names, but OneClassSVM was fitted without feature names\n",
      "  warnings.warn(\n",
      "/home/csy/anaconda3/envs/pygsp/lib/python3.10/site-packages/sklearn/base.py:457: UserWarning: X has feature names, but OneClassSVM was fitted without feature names\n",
      "  warnings.warn(\n",
      "/home/csy/anaconda3/envs/pygsp/lib/python3.10/site-packages/sklearn/base.py:457: UserWarning: X has feature names, but OneClassSVM was fitted without feature names\n",
      "  warnings.warn(\n",
      "/home/csy/anaconda3/envs/pygsp/lib/python3.10/site-packages/sklearn/base.py:457: UserWarning: X has feature names, but OneClassSVM was fitted without feature names\n",
      "  warnings.warn(\n",
      "/home/csy/anaconda3/envs/pygsp/lib/python3.10/site-packages/sklearn/base.py:457: UserWarning: X has feature names, but OneClassSVM was fitted without feature names\n",
      "  warnings.warn(\n",
      "/home/csy/anaconda3/envs/pygsp/lib/python3.10/site-packages/sklearn/base.py:457: UserWarning: X has feature names, but OneClassSVM was fitted without feature names\n",
      "  warnings.warn(\n",
      "/home/csy/anaconda3/envs/pygsp/lib/python3.10/site-packages/sklearn/base.py:457: UserWarning: X has feature names, but OneClassSVM was fitted without feature names\n",
      "  warnings.warn(\n"
     ]
    }
   ],
   "source": [
    "tab_orbit = pd.DataFrame(columns=[\"Accuracy\",\"Precision\",\"Recall\",\"F1\",\"AUC\"])\n",
    "for n in n_values:\n",
    "    for eta_sparsity in eta_sparsity_list:\n",
    "        np.random.seed(777)\n",
    "        epsilon = np.around(np.random.normal(size=n),15)\n",
    "        signal = np.random.choice(np.concatenate((np.random.uniform(-4, -1, round(n * eta_sparsity / 2)).round(15), np.random.uniform(1, 4, round(n * eta_sparsity / 2)).round(15), np.repeat(0, n - round(n * eta_sparsity)))), n)\n",
    "        eta = signal + epsilon\n",
    "        pi=np.pi\n",
    "        ang=np.linspace(-pi,pi-2*pi/n,n)\n",
    "        r=5+np.cos(np.linspace(0,12*pi,n))\n",
    "        vx=r*np.cos(ang)\n",
    "        vy=r*np.sin(ang)\n",
    "        f1=10*np.sin(np.linspace(0,6*pi,n))\n",
    "        f = f1 + eta\n",
    "        _df = pd.DataFrame({'x' : vx, 'y' : vy, 'f' : f,'f1':f1})\n",
    "        outlier_true_orbit = signal.copy()\n",
    "        outlier_true_orbit = list(map(lambda x: 1 if x!=0 else 0,outlier_true_orbit))\n",
    "        index_of_trueoutlier_bool = signal!=0\n",
    "            \n",
    "        np.random.seed(random_seed)\n",
    "        clf = OCSVM(nu=eta_sparsity)\n",
    "        \n",
    "        tab_orb = fortable(_df[['x','y','f']], clf, tab_orbit, outlier_true_orbit, \"OCSVM\")\n",
    "        \n",
    "        tab_orbit = tab_orb.comparison()\n",
    "tab_orbit_OCSVM = tab_orbit"
   ]
  },
  {
   "cell_type": "markdown",
   "id": "d69eec3e-38b1-4578-afc9-5b490545d290",
   "metadata": {},
   "source": [
    "## MCD_Orbit"
   ]
  },
  {
   "cell_type": "code",
   "execution_count": 92,
   "id": "4c39e46c-832c-492c-ade8-3e481ce960fb",
   "metadata": {},
   "outputs": [],
   "source": [
    "clf = MCD(contamination=eta_sparsity , random_state = random_seed)\n",
    "\n",
    "tab_orb = fortable(_df[['x','y','f']], clf, tab_orbit, outlier_true_orbit, \"MCD\")\n",
    "\n",
    "tab_orbit = tab_orb.comparison()"
   ]
  },
  {
   "cell_type": "code",
   "execution_count": 93,
   "id": "10f314c0-e67c-4399-88a0-095cb6d85952",
   "metadata": {},
   "outputs": [
    {
     "name": "stderr",
     "output_type": "stream",
     "text": [
      "/tmp/ipykernel_255578/3780776973.py:45: FutureWarning: The behavior of DataFrame concatenation with empty or all-NA entries is deprecated. In a future version, this will no longer exclude empty or all-NA columns when determining the result dtypes. To retain the old behavior, exclude the relevant entries before the concat operation.\n",
      "  _table = pd.concat([self.tabb,\n"
     ]
    }
   ],
   "source": [
    "tab_orbit = pd.DataFrame(columns=[\"Accuracy\",\"Precision\",\"Recall\",\"F1\",\"AUC\"])\n",
    "for n in n_values:\n",
    "    for eta_sparsity in eta_sparsity_list:\n",
    "        np.random.seed(777)\n",
    "        epsilon = np.around(np.random.normal(size=n),15)\n",
    "        signal = np.random.choice(np.concatenate((np.random.uniform(-4, -1, round(n * eta_sparsity / 2)).round(15), np.random.uniform(1, 4, round(n * eta_sparsity / 2)).round(15), np.repeat(0, n - round(n * eta_sparsity)))), n)\n",
    "        eta = signal + epsilon\n",
    "        pi=np.pi\n",
    "        ang=np.linspace(-pi,pi-2*pi/n,n)\n",
    "        r=5+np.cos(np.linspace(0,12*pi,n))\n",
    "        vx=r*np.cos(ang)\n",
    "        vy=r*np.sin(ang)\n",
    "        f1=10*np.sin(np.linspace(0,6*pi,n))\n",
    "        f = f1 + eta\n",
    "        _df = pd.DataFrame({'x' : vx, 'y' : vy, 'f' : f,'f1':f1})\n",
    "        outlier_true_orbit = signal.copy()\n",
    "        outlier_true_orbit = list(map(lambda x: 1 if x!=0 else 0,outlier_true_orbit))\n",
    "        index_of_trueoutlier_bool = signal!=0\n",
    "            \n",
    "        clf = MCD(contamination=eta_sparsity , random_state = random_seed)\n",
    "\n",
    "        tab_orb = fortable(_df[['x','y','f']], clf, tab_orbit, outlier_true_orbit, \"MCD\")\n",
    "        \n",
    "        tab_orbit = tab_orb.comparison()\n",
    "tab_orbit_MCD = tab_orbit"
   ]
  },
  {
   "cell_type": "markdown",
   "id": "5f517a16-df36-40d0-845b-477f23578c11",
   "metadata": {},
   "source": [
    "## Feature Bagging_Orbit"
   ]
  },
  {
   "cell_type": "code",
   "execution_count": 94,
   "id": "e19fd49b-be95-4c58-998b-e1be7a2b84c3",
   "metadata": {},
   "outputs": [],
   "source": [
    "clf = FeatureBagging(contamination=eta_sparsity, random_state=random_seed)\n",
    "\n",
    "tab_orb = fortable(_df[['x','y','f']], clf, tab_orbit, outlier_true_orbit, \"Feature Bagging\")\n",
    "\n",
    "tab_orbit = tab_orb.comparison()"
   ]
  },
  {
   "cell_type": "code",
   "execution_count": 95,
   "id": "f4a8c8ea-e0fe-451f-9ff8-c4dd5f46e4d9",
   "metadata": {},
   "outputs": [
    {
     "name": "stderr",
     "output_type": "stream",
     "text": [
      "/tmp/ipykernel_255578/3780776973.py:45: FutureWarning: The behavior of DataFrame concatenation with empty or all-NA entries is deprecated. In a future version, this will no longer exclude empty or all-NA columns when determining the result dtypes. To retain the old behavior, exclude the relevant entries before the concat operation.\n",
      "  _table = pd.concat([self.tabb,\n"
     ]
    }
   ],
   "source": [
    "tab_orbit = pd.DataFrame(columns=[\"Accuracy\",\"Precision\",\"Recall\",\"F1\",\"AUC\"])\n",
    "for n in n_values:\n",
    "    for eta_sparsity in eta_sparsity_list:\n",
    "        np.random.seed(777)\n",
    "        epsilon = np.around(np.random.normal(size=n),15)\n",
    "        signal = np.random.choice(np.concatenate((np.random.uniform(-4, -1, round(n * eta_sparsity / 2)).round(15), np.random.uniform(1, 4, round(n * eta_sparsity / 2)).round(15), np.repeat(0, n - round(n * eta_sparsity)))), n)\n",
    "        eta = signal + epsilon\n",
    "        pi=np.pi\n",
    "        ang=np.linspace(-pi,pi-2*pi/n,n)\n",
    "        r=5+np.cos(np.linspace(0,12*pi,n))\n",
    "        vx=r*np.cos(ang)\n",
    "        vy=r*np.sin(ang)\n",
    "        f1=10*np.sin(np.linspace(0,6*pi,n))\n",
    "        f = f1 + eta\n",
    "        _df = pd.DataFrame({'x' : vx, 'y' : vy, 'f' : f,'f1':f1})\n",
    "        outlier_true_orbit = signal.copy()\n",
    "        outlier_true_orbit = list(map(lambda x: 1 if x!=0 else 0,outlier_true_orbit))\n",
    "        index_of_trueoutlier_bool = signal!=0\n",
    "            \n",
    "        clf = FeatureBagging(contamination=eta_sparsity, random_state=random_seed)\n",
    "\n",
    "        tab_orb = fortable(_df[['x','y','f']], clf, tab_orbit, outlier_true_orbit, \"Feature Bagging\")\n",
    "        \n",
    "        tab_orbit = tab_orb.comparison()\n",
    "tab_orbit_Feature = tab_orbit"
   ]
  },
  {
   "cell_type": "markdown",
   "id": "b82e6c37-abf1-4310-a49c-868ed8d45ccd",
   "metadata": {},
   "source": [
    "## ABOD_Orbit"
   ]
  },
  {
   "cell_type": "code",
   "execution_count": 96,
   "id": "9f9e818d-8d39-4df1-a99c-797c23f78450",
   "metadata": {},
   "outputs": [],
   "source": [
    "np.random.seed(random_seed)\n",
    "clf = ABOD(contamination=eta_sparsity)\n",
    "\n",
    "tab_orb = fortable(_df[['x','y','f']], clf, tab_orbit, outlier_true_orbit, \"ABOD\")\n",
    "\n",
    "tab_orbit = tab_orb.comparison()"
   ]
  },
  {
   "cell_type": "code",
   "execution_count": 97,
   "id": "0b16cecf-f4bc-4d52-a0d9-7632f458159f",
   "metadata": {},
   "outputs": [
    {
     "name": "stderr",
     "output_type": "stream",
     "text": [
      "/tmp/ipykernel_255578/3780776973.py:45: FutureWarning: The behavior of DataFrame concatenation with empty or all-NA entries is deprecated. In a future version, this will no longer exclude empty or all-NA columns when determining the result dtypes. To retain the old behavior, exclude the relevant entries before the concat operation.\n",
      "  _table = pd.concat([self.tabb,\n"
     ]
    }
   ],
   "source": [
    "tab_orbit = pd.DataFrame(columns=[\"Accuracy\",\"Precision\",\"Recall\",\"F1\",\"AUC\"])\n",
    "for n in n_values:\n",
    "    for eta_sparsity in eta_sparsity_list:\n",
    "        np.random.seed(777)\n",
    "        epsilon = np.around(np.random.normal(size=n),15)\n",
    "        signal = np.random.choice(np.concatenate((np.random.uniform(-4, -1, round(n * eta_sparsity / 2)).round(15), np.random.uniform(1, 4, round(n * eta_sparsity / 2)).round(15), np.repeat(0, n - round(n * eta_sparsity)))), n)\n",
    "        eta = signal + epsilon\n",
    "        pi=np.pi\n",
    "        ang=np.linspace(-pi,pi-2*pi/n,n)\n",
    "        r=5+np.cos(np.linspace(0,12*pi,n))\n",
    "        vx=r*np.cos(ang)\n",
    "        vy=r*np.sin(ang)\n",
    "        f1=10*np.sin(np.linspace(0,6*pi,n))\n",
    "        f = f1 + eta\n",
    "        _df = pd.DataFrame({'x' : vx, 'y' : vy, 'f' : f,'f1':f1})\n",
    "        outlier_true_orbit = signal.copy()\n",
    "        outlier_true_orbit = list(map(lambda x: 1 if x!=0 else 0,outlier_true_orbit))\n",
    "        index_of_trueoutlier_bool = signal!=0\n",
    "            \n",
    "        np.random.seed(random_seed)\n",
    "        clf = ABOD(contamination=eta_sparsity)\n",
    "        \n",
    "        tab_orb = fortable(_df[['x','y','f']], clf, tab_orbit, outlier_true_orbit, \"ABOD\")\n",
    "        \n",
    "        tab_orbit = tab_orb.comparison()\n",
    "tab_orbit_ABOD = tab_orbit"
   ]
  },
  {
   "cell_type": "markdown",
   "id": "a557f941-d3d1-4345-8a00-099c126c83c5",
   "metadata": {},
   "source": [
    "## IForest_Orbit"
   ]
  },
  {
   "cell_type": "code",
   "execution_count": 98,
   "id": "cf560ebb-8c72-4b7f-a77b-3af0a48f35b9",
   "metadata": {},
   "outputs": [
    {
     "name": "stderr",
     "output_type": "stream",
     "text": [
      "/home/csy/anaconda3/envs/pygsp/lib/python3.10/site-packages/sklearn/base.py:457: UserWarning: X has feature names, but IsolationForest was fitted without feature names\n",
      "  warnings.warn(\n"
     ]
    }
   ],
   "source": [
    "clf = IForest(contamination=eta_sparsity,random_state=random_seed)\n",
    "\n",
    "tab_orb = fortable(_df[['x','y','f']], clf, tab_orbit, outlier_true_orbit, \"Isolation Forest\")\n",
    "\n",
    "tab_orbit = tab_orb.comparison()"
   ]
  },
  {
   "cell_type": "code",
   "execution_count": 99,
   "id": "b675277b-a5f9-4ddb-b218-3d5d2fd3c57b",
   "metadata": {
    "scrolled": true
   },
   "outputs": [
    {
     "name": "stderr",
     "output_type": "stream",
     "text": [
      "/home/csy/anaconda3/envs/pygsp/lib/python3.10/site-packages/sklearn/base.py:457: UserWarning: X has feature names, but IsolationForest was fitted without feature names\n",
      "  warnings.warn(\n",
      "/tmp/ipykernel_255578/3780776973.py:45: FutureWarning: The behavior of DataFrame concatenation with empty or all-NA entries is deprecated. In a future version, this will no longer exclude empty or all-NA columns when determining the result dtypes. To retain the old behavior, exclude the relevant entries before the concat operation.\n",
      "  _table = pd.concat([self.tabb,\n",
      "/home/csy/anaconda3/envs/pygsp/lib/python3.10/site-packages/sklearn/base.py:457: UserWarning: X has feature names, but IsolationForest was fitted without feature names\n",
      "  warnings.warn(\n",
      "/home/csy/anaconda3/envs/pygsp/lib/python3.10/site-packages/sklearn/base.py:457: UserWarning: X has feature names, but IsolationForest was fitted without feature names\n",
      "  warnings.warn(\n",
      "/home/csy/anaconda3/envs/pygsp/lib/python3.10/site-packages/sklearn/base.py:457: UserWarning: X has feature names, but IsolationForest was fitted without feature names\n",
      "  warnings.warn(\n",
      "/home/csy/anaconda3/envs/pygsp/lib/python3.10/site-packages/sklearn/base.py:457: UserWarning: X has feature names, but IsolationForest was fitted without feature names\n",
      "  warnings.warn(\n",
      "/home/csy/anaconda3/envs/pygsp/lib/python3.10/site-packages/sklearn/base.py:457: UserWarning: X has feature names, but IsolationForest was fitted without feature names\n",
      "  warnings.warn(\n",
      "/home/csy/anaconda3/envs/pygsp/lib/python3.10/site-packages/sklearn/base.py:457: UserWarning: X has feature names, but IsolationForest was fitted without feature names\n",
      "  warnings.warn(\n",
      "/home/csy/anaconda3/envs/pygsp/lib/python3.10/site-packages/sklearn/base.py:457: UserWarning: X has feature names, but IsolationForest was fitted without feature names\n",
      "  warnings.warn(\n",
      "/home/csy/anaconda3/envs/pygsp/lib/python3.10/site-packages/sklearn/base.py:457: UserWarning: X has feature names, but IsolationForest was fitted without feature names\n",
      "  warnings.warn(\n"
     ]
    }
   ],
   "source": [
    "tab_orbit = pd.DataFrame(columns=[\"Accuracy\",\"Precision\",\"Recall\",\"F1\",\"AUC\"])\n",
    "for n in n_values:\n",
    "    for eta_sparsity in eta_sparsity_list:\n",
    "        np.random.seed(777)\n",
    "        epsilon = np.around(np.random.normal(size=n),15)\n",
    "        signal = np.random.choice(np.concatenate((np.random.uniform(-4, -1, round(n * eta_sparsity / 2)).round(15), np.random.uniform(1, 4, round(n * eta_sparsity / 2)).round(15), np.repeat(0, n - round(n * eta_sparsity)))), n)\n",
    "        eta = signal + epsilon\n",
    "        pi=np.pi\n",
    "        ang=np.linspace(-pi,pi-2*pi/n,n)\n",
    "        r=5+np.cos(np.linspace(0,12*pi,n))\n",
    "        vx=r*np.cos(ang)\n",
    "        vy=r*np.sin(ang)\n",
    "        f1=10*np.sin(np.linspace(0,6*pi,n))\n",
    "        f = f1 + eta\n",
    "        _df = pd.DataFrame({'x' : vx, 'y' : vy, 'f' : f,'f1':f1})\n",
    "        outlier_true_orbit = signal.copy()\n",
    "        outlier_true_orbit = list(map(lambda x: 1 if x!=0 else 0,outlier_true_orbit))\n",
    "        index_of_trueoutlier_bool = signal!=0\n",
    "            \n",
    "        clf = IForest(contamination=eta_sparsity,random_state=random_seed)\n",
    "\n",
    "        tab_orb = fortable(_df[['x','y','f']], clf, tab_orbit, outlier_true_orbit, \"Isolation Forest\")\n",
    "        \n",
    "        tab_orbit = tab_orb.comparison()\n",
    "tab_orbit_Isolation = tab_orbit"
   ]
  },
  {
   "cell_type": "markdown",
   "id": "72b15bb5-8da9-4d9a-98eb-b5aa757f1a98",
   "metadata": {},
   "source": [
    "## HBOS_Orbit"
   ]
  },
  {
   "cell_type": "code",
   "execution_count": 100,
   "id": "d9c9561f-e611-4318-b205-ae8934dd3bac",
   "metadata": {},
   "outputs": [],
   "source": [
    "np.random.seed(random_seed)\n",
    "clf = HBOS(contamination=eta_sparsity)\n",
    "\n",
    "tab_orb = fortable(_df[['x','y','f']], clf, tab_orbit, outlier_true_orbit, \"HBOS\")\n",
    "\n",
    "tab_orbit = tab_orb.comparison()"
   ]
  },
  {
   "cell_type": "code",
   "execution_count": 101,
   "id": "2e9ee210-ab61-44ca-967a-1f03dd2a48d0",
   "metadata": {},
   "outputs": [
    {
     "name": "stderr",
     "output_type": "stream",
     "text": [
      "/tmp/ipykernel_255578/3780776973.py:45: FutureWarning: The behavior of DataFrame concatenation with empty or all-NA entries is deprecated. In a future version, this will no longer exclude empty or all-NA columns when determining the result dtypes. To retain the old behavior, exclude the relevant entries before the concat operation.\n",
      "  _table = pd.concat([self.tabb,\n"
     ]
    }
   ],
   "source": [
    "tab_orbit = pd.DataFrame(columns=[\"Accuracy\",\"Precision\",\"Recall\",\"F1\",\"AUC\"])\n",
    "for n in n_values:\n",
    "    for eta_sparsity in eta_sparsity_list:\n",
    "        np.random.seed(777)\n",
    "        epsilon = np.around(np.random.normal(size=n),15)\n",
    "        signal = np.random.choice(np.concatenate((np.random.uniform(-4, -1, round(n * eta_sparsity / 2)).round(15), np.random.uniform(1, 4, round(n * eta_sparsity / 2)).round(15), np.repeat(0, n - round(n * eta_sparsity)))), n)\n",
    "        eta = signal + epsilon\n",
    "        pi=np.pi\n",
    "        ang=np.linspace(-pi,pi-2*pi/n,n)\n",
    "        r=5+np.cos(np.linspace(0,12*pi,n))\n",
    "        vx=r*np.cos(ang)\n",
    "        vy=r*np.sin(ang)\n",
    "        f1=10*np.sin(np.linspace(0,6*pi,n))\n",
    "        f = f1 + eta\n",
    "        _df = pd.DataFrame({'x' : vx, 'y' : vy, 'f' : f,'f1':f1})\n",
    "        outlier_true_orbit = signal.copy()\n",
    "        outlier_true_orbit = list(map(lambda x: 1 if x!=0 else 0,outlier_true_orbit))\n",
    "        index_of_trueoutlier_bool = signal!=0\n",
    "            \n",
    "        np.random.seed(random_seed)\n",
    "        clf = HBOS(contamination=eta_sparsity)\n",
    "        \n",
    "        tab_orb = fortable(_df[['x','y','f']], clf, tab_orbit, outlier_true_orbit, \"HBOS\")\n",
    "        \n",
    "        tab_orbit = tab_orb.comparison()\n",
    "tab_orbit_HBOS = tab_orbit"
   ]
  },
  {
   "cell_type": "markdown",
   "id": "8e5c711c-95f8-4330-a4fd-37999253e12e",
   "metadata": {},
   "source": [
    "## SOS_Orbit"
   ]
  },
  {
   "cell_type": "code",
   "execution_count": 102,
   "id": "1278b8fd-8ff1-4d96-872b-ec752d994669",
   "metadata": {},
   "outputs": [],
   "source": [
    "np.random.seed(random_seed)\n",
    "clf = SOS(contamination=eta_sparsity)\n",
    "\n",
    "tab_orb = fortable(_df[['x','y','f']], clf, tab_orbit, outlier_true_orbit, \"SOS\")\n",
    "\n",
    "tab_orbit = tab_orb.comparison()"
   ]
  },
  {
   "cell_type": "code",
   "execution_count": 103,
   "id": "793e373b-6b29-46a3-aab1-e3619726a11c",
   "metadata": {},
   "outputs": [
    {
     "name": "stderr",
     "output_type": "stream",
     "text": [
      "/tmp/ipykernel_255578/3780776973.py:45: FutureWarning: The behavior of DataFrame concatenation with empty or all-NA entries is deprecated. In a future version, this will no longer exclude empty or all-NA columns when determining the result dtypes. To retain the old behavior, exclude the relevant entries before the concat operation.\n",
      "  _table = pd.concat([self.tabb,\n"
     ]
    }
   ],
   "source": [
    "tab_orbit = pd.DataFrame(columns=[\"Accuracy\",\"Precision\",\"Recall\",\"F1\",\"AUC\"])\n",
    "for n in n_values:\n",
    "    for eta_sparsity in eta_sparsity_list:\n",
    "        np.random.seed(777)\n",
    "        epsilon = np.around(np.random.normal(size=n),15)\n",
    "        signal = np.random.choice(np.concatenate((np.random.uniform(-4, -1, round(n * eta_sparsity / 2)).round(15), np.random.uniform(1, 4, round(n * eta_sparsity / 2)).round(15), np.repeat(0, n - round(n * eta_sparsity)))), n)\n",
    "        eta = signal + epsilon\n",
    "        pi=np.pi\n",
    "        ang=np.linspace(-pi,pi-2*pi/n,n)\n",
    "        r=5+np.cos(np.linspace(0,12*pi,n))\n",
    "        vx=r*np.cos(ang)\n",
    "        vy=r*np.sin(ang)\n",
    "        f1=10*np.sin(np.linspace(0,6*pi,n))\n",
    "        f = f1 + eta\n",
    "        _df = pd.DataFrame({'x' : vx, 'y' : vy, 'f' : f,'f1':f1})\n",
    "        outlier_true_orbit = signal.copy()\n",
    "        outlier_true_orbit = list(map(lambda x: 1 if x!=0 else 0,outlier_true_orbit))\n",
    "        index_of_trueoutlier_bool = signal!=0\n",
    "            \n",
    "        np.random.seed(random_seed)\n",
    "        clf = SOS(contamination=eta_sparsity)\n",
    "        \n",
    "        tab_orb = fortable(_df[['x','y','f']], clf, tab_orbit, outlier_true_orbit, \"SOS\")\n",
    "        \n",
    "        tab_orbit = tab_orb.comparison()\n",
    "tab_orbit_SOS = tab_orbit"
   ]
  },
  {
   "cell_type": "markdown",
   "id": "1c74da2d-431b-42d1-8656-e2cf8d670e99",
   "metadata": {},
   "source": [
    "## LSCP_Orbit"
   ]
  },
  {
   "cell_type": "code",
   "execution_count": 104,
   "id": "c12811f1-ca34-440b-9cab-8a1e3ee7974b",
   "metadata": {},
   "outputs": [
    {
     "name": "stderr",
     "output_type": "stream",
     "text": [
      "/home/csy/anaconda3/envs/pygsp/lib/python3.10/site-packages/pyod/models/lscp.py:382: UserWarning: The number of histogram bins is greater than the number of classifiers, reducing n_bins to n_clf.\n",
      "  warnings.warn(\n"
     ]
    }
   ],
   "source": [
    "detectors = [KNN(), LOF(), OCSVM()]\n",
    "clf = LSCP(detectors,contamination=eta_sparsity, random_state=random_seed)\n",
    "\n",
    "tab_orb = fortable(_df[['x','y','f']], clf, tab_orbit, outlier_true_orbit, \"LSCP\")\n",
    "\n",
    "tab_orbit = tab_orb.comparison()"
   ]
  },
  {
   "cell_type": "code",
   "execution_count": 105,
   "id": "0658e162-49a2-416a-ad81-3986bc2dad6d",
   "metadata": {
    "scrolled": true
   },
   "outputs": [
    {
     "name": "stderr",
     "output_type": "stream",
     "text": [
      "/home/csy/anaconda3/envs/pygsp/lib/python3.10/site-packages/pyod/models/lscp.py:382: UserWarning: The number of histogram bins is greater than the number of classifiers, reducing n_bins to n_clf.\n",
      "  warnings.warn(\n",
      "/tmp/ipykernel_255578/3780776973.py:45: FutureWarning: The behavior of DataFrame concatenation with empty or all-NA entries is deprecated. In a future version, this will no longer exclude empty or all-NA columns when determining the result dtypes. To retain the old behavior, exclude the relevant entries before the concat operation.\n",
      "  _table = pd.concat([self.tabb,\n",
      "/home/csy/anaconda3/envs/pygsp/lib/python3.10/site-packages/pyod/models/lscp.py:382: UserWarning: The number of histogram bins is greater than the number of classifiers, reducing n_bins to n_clf.\n",
      "  warnings.warn(\n",
      "/home/csy/anaconda3/envs/pygsp/lib/python3.10/site-packages/pyod/models/lscp.py:382: UserWarning: The number of histogram bins is greater than the number of classifiers, reducing n_bins to n_clf.\n",
      "  warnings.warn(\n",
      "/home/csy/anaconda3/envs/pygsp/lib/python3.10/site-packages/pyod/models/lscp.py:382: UserWarning: The number of histogram bins is greater than the number of classifiers, reducing n_bins to n_clf.\n",
      "  warnings.warn(\n",
      "/home/csy/anaconda3/envs/pygsp/lib/python3.10/site-packages/pyod/models/lscp.py:382: UserWarning: The number of histogram bins is greater than the number of classifiers, reducing n_bins to n_clf.\n",
      "  warnings.warn(\n",
      "/home/csy/anaconda3/envs/pygsp/lib/python3.10/site-packages/pyod/models/lscp.py:382: UserWarning: The number of histogram bins is greater than the number of classifiers, reducing n_bins to n_clf.\n",
      "  warnings.warn(\n",
      "/home/csy/anaconda3/envs/pygsp/lib/python3.10/site-packages/pyod/models/lscp.py:382: UserWarning: The number of histogram bins is greater than the number of classifiers, reducing n_bins to n_clf.\n",
      "  warnings.warn(\n",
      "/home/csy/anaconda3/envs/pygsp/lib/python3.10/site-packages/pyod/models/lscp.py:382: UserWarning: The number of histogram bins is greater than the number of classifiers, reducing n_bins to n_clf.\n",
      "  warnings.warn(\n",
      "/home/csy/anaconda3/envs/pygsp/lib/python3.10/site-packages/pyod/models/lscp.py:382: UserWarning: The number of histogram bins is greater than the number of classifiers, reducing n_bins to n_clf.\n",
      "  warnings.warn(\n"
     ]
    }
   ],
   "source": [
    "tab_orbit = pd.DataFrame(columns=[\"Accuracy\",\"Precision\",\"Recall\",\"F1\",\"AUC\"])\n",
    "for n in n_values:\n",
    "    for eta_sparsity in eta_sparsity_list:\n",
    "        np.random.seed(777)\n",
    "        epsilon = np.around(np.random.normal(size=n),15)\n",
    "        signal = np.random.choice(np.concatenate((np.random.uniform(-4, -1, round(n * eta_sparsity / 2)).round(15), np.random.uniform(1, 4, round(n * eta_sparsity / 2)).round(15), np.repeat(0, n - round(n * eta_sparsity)))), n)\n",
    "        eta = signal + epsilon\n",
    "        pi=np.pi\n",
    "        ang=np.linspace(-pi,pi-2*pi/n,n)\n",
    "        r=5+np.cos(np.linspace(0,12*pi,n))\n",
    "        vx=r*np.cos(ang)\n",
    "        vy=r*np.sin(ang)\n",
    "        f1=10*np.sin(np.linspace(0,6*pi,n))\n",
    "        f = f1 + eta\n",
    "        _df = pd.DataFrame({'x' : vx, 'y' : vy, 'f' : f,'f1':f1})\n",
    "        outlier_true_orbit = signal.copy()\n",
    "        outlier_true_orbit = list(map(lambda x: 1 if x!=0 else 0,outlier_true_orbit))\n",
    "        index_of_trueoutlier_bool = signal!=0\n",
    "            \n",
    "        detectors = [KNN(), LOF(), OCSVM()]\n",
    "        clf = LSCP(detectors,contamination=eta_sparsity, random_state=random_seed)\n",
    "        \n",
    "        tab_orb = fortable(_df[['x','y','f']], clf, tab_orbit, outlier_true_orbit, \"LSCP\")\n",
    "        \n",
    "        tab_orbit = tab_orb.comparison()\n",
    "tab_orbit_LSCP = tab_orbit"
   ]
  },
  {
   "cell_type": "markdown",
   "id": "f94e4450-637b-4d6b-9942-666491d8162d",
   "metadata": {},
   "source": [
    "## tab_orbit"
   ]
  },
  {
   "cell_type": "code",
   "execution_count": null,
   "id": "2f61b874-6441-48d9-8c21-1c51c361cafb",
   "metadata": {},
   "outputs": [],
   "source": [
    "round(tab_orbit,3)"
   ]
  },
  {
   "cell_type": "code",
   "execution_count": 126,
   "id": "f979f967-0dae-4329-85f0-fcaa5fe5c130",
   "metadata": {
    "scrolled": true
   },
   "outputs": [],
   "source": [
    "pd.concat([tab_orbit_gode.iloc[:,:-1],\n",
    "           tab_orbit_LOF,\n",
    "           tab_orbit_kNN,\n",
    "          tab_orbit_CBLOF,\n",
    "          tab_orbit_OCSVM,\n",
    "          tab_orbit_MCD,\n",
    "          tab_orbit_Feature,\n",
    "          tab_orbit_ABOD,\n",
    "          tab_orbit_Isolation,\n",
    "          tab_orbit_HBOS,\n",
    "          tab_orbit_SOS,\n",
    "          tab_orbit_LSCP]).to_csv('./Example_2_Dataset.csv')"
   ]
  },
  {
   "cell_type": "markdown",
   "id": "91aec9dc-8c18-4725-b509-5c0f094cbcad",
   "metadata": {},
   "source": [
    "# Bunny"
   ]
  },
  {
   "cell_type": "code",
   "execution_count": null,
   "id": "329e2add-ba90-4506-b80a-a6244e907f0f",
   "metadata": {},
   "outputs": [],
   "source": [
    "# tab_bunny = pd.DataFrame(columns=[\"Accuracy\",\"Precision\",\"Recall\",\"F1\",\"AUC\"])"
   ]
  },
  {
   "cell_type": "code",
   "execution_count": null,
   "id": "c6d1ed5d-e34f-4cf7-abdd-7509f586d948",
   "metadata": {},
   "outputs": [],
   "source": [
    "eta_sparsity = 0.2\n",
    "random_seed=77\n",
    "n = 2503"
   ]
  },
  {
   "cell_type": "code",
   "execution_count": null,
   "id": "d5d5402c-821b-416d-a5a8-f80daf7832b3",
   "metadata": {},
   "outputs": [],
   "source": [
    "with open(\"../../2_research/Bunny.pkl\", \"rb\") as file:\n",
    "    loaded_obj = pickle.load(file)"
   ]
  },
  {
   "cell_type": "code",
   "execution_count": null,
   "id": "9e985c94-1dfd-4dbe-ac11-b534a896b14d",
   "metadata": {},
   "outputs": [],
   "source": [
    "_df = pd.DataFrame({'x':loaded_obj['x'],'y':loaded_obj['y'],'z':loaded_obj['z'],'fnoise':loaded_obj['f']+loaded_obj['noise'],'f':loaded_obj['f'],'noise':loaded_obj['noise']})\n",
    "outlier_true_bunny = loaded_obj['unif'].copy()\n",
    "outlier_true_bunny = list(map(lambda x: 1 if x !=0  else 0,outlier_true_bunny))\n",
    "index_of_trueoutlier_bool_bunny = loaded_obj['unif']!=0\n",
    "_W = loaded_obj['W'].copy()"
   ]
  },
  {
   "cell_type": "markdown",
   "id": "6d2dec95-edc3-46ad-a903-b16617245f84",
   "metadata": {},
   "source": [
    "## GODE_Bunny"
   ]
  },
  {
   "cell_type": "code",
   "execution_count": null,
   "id": "b66e834a-6b55-4156-bcb3-b3807817f0ba",
   "metadata": {},
   "outputs": [],
   "source": [
    "_BUNNY = BUNNY(_df)\n",
    "_BUNNY.fit(sd=20)\n",
    "\n",
    "outlier_GODE_bunny_old = (_BUNNY.df['Residual']**2).tolist()\n",
    "sorted_data = sorted(outlier_GODE_bunny_old,reverse=True)\n",
    "index = int(len(sorted_data) * eta_sparsity)\n",
    "n_percent = sorted_data[index]\n",
    "outlier_GODE_bunny = list(map(lambda x: 1 if x > n_percent else 0,outlier_GODE_bunny_old))\n",
    "\n",
    "tab_bun = fortable(_df, clf = None, tab =tab_bunny, outlier_true=outlier_true_bunny, conf_name =\"GODE\")\n",
    "\n",
    "tab_bunny = tab_bun.comparison(compare_outlier = outlier_GODE_bunny_old, conf_outlier = outlier_GODE_bunny, gode = True)"
   ]
  },
  {
   "cell_type": "markdown",
   "id": "7cc46db6-b775-4644-b133-8d6cfac879df",
   "metadata": {},
   "source": [
    "## LOF_Bunny"
   ]
  },
  {
   "cell_type": "code",
   "execution_count": null,
   "id": "43aa5914-f1e2-4735-b890-1433042a9a6b",
   "metadata": {},
   "outputs": [],
   "source": [
    "np.random.seed(random_seed)\n",
    "clf = LOF(contamination=eta_sparsity)\n",
    "\n",
    "tab_bun = fortable(_df, clf, tab_bunny, outlier_true_bunny, \"LOF\")\n",
    "\n",
    "tab_bunny = tab_bun.comparison()"
   ]
  },
  {
   "cell_type": "markdown",
   "id": "541cb13f-0ee9-4f65-8046-2ee527ef9247",
   "metadata": {},
   "source": [
    "## KNN_Bunny"
   ]
  },
  {
   "cell_type": "code",
   "execution_count": null,
   "id": "8adb3b04-06a1-4751-8611-93759a53eb8f",
   "metadata": {},
   "outputs": [],
   "source": [
    "np.random.seed(random_seed)\n",
    "clf = KNN(contamination=eta_sparsity)\n",
    "\n",
    "tab_bun = fortable(_df, clf, tab_bunny, outlier_true_bunny, \"kNN\")\n",
    "\n",
    "tab_bunny = tab_bun.comparison()"
   ]
  },
  {
   "cell_type": "markdown",
   "id": "d94f9527-6cc9-49a0-9a7b-c52f80058455",
   "metadata": {},
   "source": [
    "## CBLOF_Bunny"
   ]
  },
  {
   "cell_type": "code",
   "execution_count": null,
   "id": "111f18f9-ed06-485e-9120-820b3f38cc02",
   "metadata": {},
   "outputs": [],
   "source": [
    "clf = CBLOF(contamination=eta_sparsity,random_state=random_seed)\n",
    "\n",
    "tab_bun = fortable(_df, clf, tab_bunny, outlier_true_bunny, \"CBLOF\")\n",
    "\n",
    "tab_bunny = tab_bun.comparison()"
   ]
  },
  {
   "cell_type": "markdown",
   "id": "56447015-31f2-4912-b0d0-3f072b22acff",
   "metadata": {},
   "source": [
    "## OCSVM_Bunny"
   ]
  },
  {
   "cell_type": "code",
   "execution_count": null,
   "id": "fdba320b-4e4e-40ba-a80f-f539ef0c27a0",
   "metadata": {},
   "outputs": [],
   "source": [
    "np.random.seed(random_seed)\n",
    "clf = OCSVM(nu=eta_sparsity)\n",
    "\n",
    "tab_bun = fortable(_df, clf, tab_bunny, outlier_true_bunny, \"OCSVM\")\n",
    "\n",
    "tab_bunny = tab_bun.comparison()"
   ]
  },
  {
   "cell_type": "markdown",
   "id": "5df1d31e-8265-432b-946c-1051934a7e21",
   "metadata": {},
   "source": [
    "## MCD_Bunny"
   ]
  },
  {
   "cell_type": "code",
   "execution_count": null,
   "id": "e1f15857-5018-47d3-822d-0bd8c94c853f",
   "metadata": {},
   "outputs": [],
   "source": [
    "clf = MCD(contamination=eta_sparsity , random_state = random_seed)\n",
    "\n",
    "tab_bun = fortable(_df, clf, tab_bunny, outlier_true_bunny, \"MCD\")\n",
    "\n",
    "tab_bunny = tab_bun.comparison()"
   ]
  },
  {
   "cell_type": "markdown",
   "id": "5016e0fa-c712-40d0-9c97-0c0e4429611f",
   "metadata": {},
   "source": [
    "## Feature Bagging_Bunny"
   ]
  },
  {
   "cell_type": "code",
   "execution_count": null,
   "id": "7581ad83-60af-4cd8-a8f8-4187d8852845",
   "metadata": {},
   "outputs": [],
   "source": [
    "clf = FeatureBagging(contamination=eta_sparsity, random_state=random_seed)\n",
    "\n",
    "tab_bun = fortable(_df, clf, tab_bunny, outlier_true_bunny, \"Feature Bagging\")\n",
    "\n",
    "tab_bunny = tab_bun.comparison()"
   ]
  },
  {
   "cell_type": "markdown",
   "id": "3c2ce1f6-0ad5-44f3-a9e2-79db6eb087a7",
   "metadata": {},
   "source": [
    "## ABOD_Bunny"
   ]
  },
  {
   "cell_type": "code",
   "execution_count": null,
   "id": "3890840c-b77d-427d-862f-c10f3e622a5d",
   "metadata": {},
   "outputs": [],
   "source": [
    "np.random.seed(random_seed)\n",
    "clf = ABOD(contamination=eta_sparsity)\n",
    "\n",
    "tab_bun = fortable(_df, clf, tab_bunny, outlier_true_bunny, \"ABOD\")\n",
    "\n",
    "tab_bunny = tab_bun.comparison()"
   ]
  },
  {
   "cell_type": "markdown",
   "id": "fded3a75-06b8-47f2-a9ad-5a12225696ab",
   "metadata": {},
   "source": [
    "## IForest_Bunny"
   ]
  },
  {
   "cell_type": "code",
   "execution_count": null,
   "id": "2cde19ab-b5d4-47bf-bb98-3485349b89b7",
   "metadata": {},
   "outputs": [],
   "source": [
    "clf = IForest(contamination=eta_sparsity,random_state=random_seed)\n",
    "\n",
    "tab_bun = fortable(_df, clf, tab_bunny, outlier_true_bunny, \"Isolation Forest\")\n",
    "\n",
    "tab_bunny = tab_bun.comparison()"
   ]
  },
  {
   "cell_type": "markdown",
   "id": "47e8fac8-044d-4e4e-8c4f-d933e328e09b",
   "metadata": {},
   "source": [
    "## HBOS_Bunny"
   ]
  },
  {
   "cell_type": "code",
   "execution_count": null,
   "id": "279c39d3-ba79-4ecb-aa52-3a53926133ca",
   "metadata": {},
   "outputs": [],
   "source": [
    "np.random.seed(random_seed)\n",
    "clf = HBOS(contamination=eta_sparsity)\n",
    "\n",
    "tab_bun = fortable(_df, clf, tab_bunny, outlier_true_bunny, \"HBOS\")\n",
    "\n",
    "tab_bunny = tab_bun.comparison()"
   ]
  },
  {
   "cell_type": "markdown",
   "id": "18081451-db50-4b06-85ca-0fdcbebb18b0",
   "metadata": {},
   "source": [
    "## SOS_Bunny"
   ]
  },
  {
   "cell_type": "code",
   "execution_count": null,
   "id": "c9f8448e-890c-4832-bd2a-c41756550085",
   "metadata": {},
   "outputs": [],
   "source": [
    "np.random.seed(random_seed)\n",
    "clf = SOS(contamination=eta_sparsity)\n",
    "\n",
    "tab_bun = fortable(_df, clf, tab_bunny, outlier_true_bunny, \"SOS\")\n",
    "\n",
    "tab_bunny = tab_bun.comparison()"
   ]
  },
  {
   "cell_type": "markdown",
   "id": "c0776cdc-e5dd-4532-b88f-b6a453bbaca7",
   "metadata": {},
   "source": [
    "## LSCP_Bunny"
   ]
  },
  {
   "cell_type": "code",
   "execution_count": null,
   "id": "a41c95cd-4d41-4808-bd77-b81f85abeac2",
   "metadata": {
    "scrolled": true
   },
   "outputs": [],
   "source": [
    "detectors = [KNN(), LOF(), OCSVM()]\n",
    "clf = LSCP(detectors,contamination=eta_sparsity, random_state=random_seed)\n",
    "\n",
    "tab_bun = fortable(_df, clf, tab_bunny, outlier_true_bunny, \"LSCP\")\n",
    "\n",
    "tab_bunny = tab_bun.comparison()"
   ]
  },
  {
   "cell_type": "markdown",
   "id": "629dce78-50ec-4020-a703-6bc900f2dba4",
   "metadata": {},
   "source": [
    "## tab_bunny"
   ]
  },
  {
   "cell_type": "code",
   "execution_count": null,
   "id": "d5131068-e547-460a-b957-7f2f8b6e2c36",
   "metadata": {},
   "outputs": [],
   "source": [
    "round(tab_bunny,3)"
   ]
  },
  {
   "cell_type": "code",
   "execution_count": null,
   "id": "c9cb94a8-4c85-4c88-9f40-e896ffca03db",
   "metadata": {},
   "outputs": [],
   "source": [
    "# tab_bunny.to_csv('./Example_3_Dataset.csv')"
   ]
  },
  {
   "cell_type": "code",
   "execution_count": null,
   "id": "b503c7bc-c58e-476c-bac7-87956bb718b2",
   "metadata": {},
   "outputs": [],
   "source": []
  },
  {
   "cell_type": "code",
   "execution_count": null,
   "id": "c4733d3f-3846-487e-b340-c5f55479efb2",
   "metadata": {},
   "outputs": [],
   "source": []
  },
  {
   "cell_type": "code",
   "execution_count": null,
   "id": "88b5103e-9199-40eb-8308-49cbeee1dd3f",
   "metadata": {},
   "outputs": [],
   "source": []
  }
 ],
 "metadata": {
  "kernelspec": {
   "display_name": "Python 3 (ipykernel)",
   "language": "python",
   "name": "python3"
  },
  "language_info": {
   "codemirror_mode": {
    "name": "ipython",
    "version": 3
   },
   "file_extension": ".py",
   "mimetype": "text/x-python",
   "name": "python",
   "nbconvert_exporter": "python",
   "pygments_lexer": "ipython3",
   "version": "3.10.11"
  }
 },
 "nbformat": 4,
 "nbformat_minor": 5
}
